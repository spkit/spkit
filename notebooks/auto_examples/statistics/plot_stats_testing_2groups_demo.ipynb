{
  "cells": [
    {
      "cell_type": "markdown",
      "metadata": {},
      "source": [
        "\n# Testing two groups\n"
      ]
    },
    {
      "cell_type": "code",
      "execution_count": null,
      "metadata": {
        "collapsed": false
      },
      "outputs": [],
      "source": [
        "#sp.stats.test_2groups"
      ]
    },
    {
      "cell_type": "markdown",
      "metadata": {},
      "source": [
        "## Example 1: Paired\n\n"
      ]
    },
    {
      "cell_type": "code",
      "execution_count": null,
      "metadata": {
        "collapsed": false
      },
      "outputs": [],
      "source": [
        "import numpy as np\nimport matplotlib.pyplot as plt\nimport spkit as sp\nnp.random.seed(1)\nx1 = np.random.randn(100)\nx2 = np.random.randn(100)+0.2\ntPass,(df1,df2) = sp.stats.test_2groups(x1,x2,paired=True,alpha=0.05,title=None,tval=True,\n                    printthr=1,return_all=True,print_round=4,notes=True,pre_tests=True,effect_size=True,\n                    plots=True)\n\n\nprint('Test Result Table')\nprint(df1)\nprint('Test Effect-size')\nprint(df2)"
      ]
    },
    {
      "cell_type": "markdown",
      "metadata": {},
      "source": [
        "## Example 2: Unpaired\n\n"
      ]
    },
    {
      "cell_type": "code",
      "execution_count": null,
      "metadata": {
        "collapsed": false
      },
      "outputs": [],
      "source": [
        "import numpy as np\nimport matplotlib.pyplot as plt\nimport spkit as sp\nnp.random.seed(1)\nx1 = np.random.randn(10)\nx2 = np.random.randn(11)+0\ntPass,(df1,df2) = sp.stats.test_2groups(x1,x2,paired=False,alpha=0.05,title=None,tval=True,\n                        printthr=1,return_all=True,\n                        print_round=4,notes=True,pre_tests=True,effect_size=True,plots=True)\n\nprint('Test Result Table')\nprint(df1)\nprint('Test Effect-size')\nprint(df2)"
      ]
    }
  ],
  "metadata": {
    "kernelspec": {
      "display_name": "Python 3",
      "language": "python",
      "name": "python3"
    },
    "language_info": {
      "codemirror_mode": {
        "name": "ipython",
        "version": 3
      },
      "file_extension": ".py",
      "mimetype": "text/x-python",
      "name": "python",
      "nbconvert_exporter": "python",
      "pygments_lexer": "ipython3",
      "version": "3.10.13"
    }
  },
  "nbformat": 4,
  "nbformat_minor": 0
}