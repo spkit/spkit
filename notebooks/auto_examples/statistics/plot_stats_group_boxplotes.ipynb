{
  "cells": [
    {
      "cell_type": "markdown",
      "metadata": {},
      "source": [
        "\n# Auditory Attention: Plot Group Data \n"
      ]
    },
    {
      "cell_type": "code",
      "execution_count": null,
      "metadata": {
        "collapsed": false
      },
      "outputs": [],
      "source": [
        "#sp.stats.test_2groups\n#sp.stats.plot_groups_boxes\n\n#sp.stats.plot_groups_boxes\nimport numpy as np\nimport pandas as pd\nimport matplotlib.pyplot as plt\nimport spkit as sp\n\npath = 'https://nikeshbajaj.github.io/PhyaatDataset/PhyAAt_AttentionScoreData_v1.csv'\n\nD = pd.read_csv(path)\n\nD1 = D[(D['SNRdB']==1000) & (D['LengthStim']=='L3') & (D['Semanticity']==0)][['SID','AttentionScore']]\nD2 = D[(D['SNRdB']==1000) & (D['LengthStim']=='L3') & (D['Semanticity']==1)][['SID','AttentionScore']]\nD1 = D1.rename(columns={'AttentionScore':'Att_Sem0_noisefree'})\nD2 = D2.rename(columns={'AttentionScore':'Att_Sem1_noisefree'})\n\nD3 = D[(D['SNRdB']==0) & (D['LengthStim']=='L3') & (D['Semanticity']==0)][['SID','AttentionScore']]\nD4 = D[(D['SNRdB']==0) & (D['LengthStim']=='L3') & (D['Semanticity']==1)][['SID','AttentionScore']]\nD3 = D3.rename(columns={'AttentionScore':'Att_Sem0_noisy'})\nD4 = D4.rename(columns={'AttentionScore':'Att_Sem1_noisy'})\nD12 = D1.merge(D2)\nD34 = D3.merge(D4)\nD12_np = D12.to_numpy()[:,1:].astype(float)\nD34_np = D34.to_numpy()[:,1:].astype(float)\n\n\n\nSNRdB = list(set(D['SNRdB']))\nSNRdB.sort()\nSEM = list(set(D['Semanticity']))\nSEM.sort()\nLS = list(set(D['LengthStim']))\nLS.sort()\n\nExp1 = [D[D['Semanticity']==sem]['AttentionScore'].to_numpy() for sem in SEM]\nExp2 = [D[D['LengthStim']==l]['AttentionScore'].to_numpy() for l in LS]\nExp3 = [D[D['SNRdB']==snr]['AttentionScore'].to_numpy() for snr in SNRdB]\n\nSNRdB_label = ['-6', '-3', '0', '3', '6', 'inf']\n\nplt.figure(figsize=(10, 7))\nax1 = plt.subplot(2,2,1)\nax2 = plt.subplot(2,2,2)\nax3 = plt.subplot(2,1,2)\n\n\nsp.stats.plot_groups_boxes(x=D12_np,lines=True,ax=ax1,xlabels=['Semantic','Non-Semantic'],title=r'Noise-free (SNR=$\\infty$dB)',ylab='Attension Level')\nsp.stats.plot_groups_boxes(x=D34_np,lines=True,ax=ax2,xlabels=['Semantic','Non-Semantic'],title='Noisy (SNR=0 dB)')\n\nsp.stats.plot_groups_boxes(Exp3,strip_kw=dict(color=\"0.1\",alpha=0.2),ax=ax3,ylab='Attention Level',\n                          xlabels=SNRdB_label)\nax3.set_xlabel('Noise Level (dB)')\n\nax1.set_ylim([0,102])\nax2.set_ylim([0,102])\nax3.set_ylim([0,102])\nplt.suptitle('Auditory Attention')\nplt.tight_layout()\nplt.show()"
      ]
    }
  ],
  "metadata": {
    "kernelspec": {
      "display_name": "Python 3",
      "language": "python",
      "name": "python3"
    },
    "language_info": {
      "codemirror_mode": {
        "name": "ipython",
        "version": 3
      },
      "file_extension": ".py",
      "mimetype": "text/x-python",
      "name": "python",
      "nbconvert_exporter": "python",
      "pygments_lexer": "ipython3",
      "version": "3.10.13"
    }
  },
  "nbformat": 4,
  "nbformat_minor": 0
}