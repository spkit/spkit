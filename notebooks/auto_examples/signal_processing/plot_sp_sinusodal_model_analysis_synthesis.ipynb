{
  "cells": [
    {
      "cell_type": "markdown",
      "metadata": {},
      "source": [
        "\n# Sinusoidal Model:  Analysis and Synthesis\n\n# Sinusoidal Model:  Analysis and Synthesis\n\nIn this example, first we decompose an audio file into ONLY 20 sinusoidal tracks and then\nreconstruct an audio from it. We will  also examin the residual.\n\nBefore starting, listen following three audio files, that are the same as generated from\nthis example.\n\n**Resulting Sinusoidal Model**\n\n\n* [Original Audio](https://github.com/spkit/data_samples/raw/main/files/singing-female.wav)\n* [Reconstructed Audio](https://github.com/spkit/data_samples/raw/main/files/sinmodel_recons_singing-female.wav)\n* [Residual Audio](https://github.com/spkit/data_samples/raw/main/files/sinmodel_residual_singing-female.wav)\n\n\n.. raw:: html\n   \n   <div class=\"column-box\">\n   <p style=\"text-align:center;\">Original Audio</p>\n   <audio controls=\"\"><source src=\"https://github.com/spkit/data_samples/raw/main/files/singing-female.wav?raw=true\" type=\"audio/wav\" /></audio>\n   </div>\n\n   <div class=\"column-box\">\n   <p style=\"text-align:center;\">Reconstructed Audio</p>\n   <audio controls=\"\"><source src=\"https://github.com/spkit/data_samples/raw/main/files/sinmodel_recons_singing-female.wav?raw=true\" type=\"audio/wav\" /></audio>\n   </div>\n\n   <div class=\"column-box\">\n   <p style=\"text-align:center;\">Residual Audio</p>\n   <audio controls=\"\"><source src=\"https://github.com/spkit/data_samples/raw/main/files/sinmodel_residual_singing-female.wav?raw=true\" type=\"audio/wav\" /></audio>\n   </div>\n"
      ]
    },
    {
      "cell_type": "markdown",
      "metadata": {},
      "source": [
        "## Example\n\n"
      ]
    },
    {
      "cell_type": "code",
      "execution_count": null,
      "metadata": {
        "collapsed": false
      },
      "outputs": [],
      "source": [
        "import numpy as np\nimport matplotlib.pyplot as plt\nimport requests, logging, os\nfrom scipy.io import wavfile\nimport spkit as sp\nprint('spkit-version :',sp.__version__)"
      ]
    },
    {
      "cell_type": "markdown",
      "metadata": {},
      "source": [
        "## Download audio file\n\n"
      ]
    },
    {
      "cell_type": "code",
      "execution_count": null,
      "metadata": {
        "collapsed": false
      },
      "outputs": [],
      "source": [
        "path  = 'https://github.com/spkit/data_samples/raw/main/files/singing-female.wav?raw=true'\n\nfile_name = 'singing-female.wav'\n\nif not(os.path.exists(file_name)):\n    req = requests.get(path)\n    with open(file_name, 'wb') as f:\n            f.write(req.content)\n\nfs, x = wavfile.read(file_name)\nt = np.arange(len(x))/fs"
      ]
    },
    {
      "cell_type": "markdown",
      "metadata": {},
      "source": [
        "## STFT of Audio\n\n"
      ]
    },
    {
      "cell_type": "code",
      "execution_count": null,
      "metadata": {
        "collapsed": false
      },
      "outputs": [],
      "source": [
        "mXt,pXt = sp.stft_analysis(x, winlen=441, overlap=220,window='blackmanharris',nfft=None)\n\nplt.figure(figsize=(13,6))\nplt.subplot(211)\nplt.plot(t,x)\nplt.xlim([t[0],t[-1]])\nplt.grid()\nplt.title('Original audio')\nplt.ylabel('amplitude (\u03bcV)')\nplt.subplot(212)\nplt.imshow(mXt.T,aspect='auto',origin='lower',cmap='jet',extent=[t[0],t[-1],0,fs/2])\nplt.title('Spectrogram')\nplt.ylabel('frequency (Hz)')\nplt.xlabel('time (s)')\nplt.tight_layout()\nplt.show()"
      ]
    },
    {
      "cell_type": "markdown",
      "metadata": {},
      "source": [
        "## Analysis of Audio with only 20 sinusodal tracks\n\n"
      ]
    },
    {
      "cell_type": "code",
      "execution_count": null,
      "metadata": {
        "collapsed": false
      },
      "outputs": [],
      "source": [
        "N = 20\n\nfXst, mXst, pXst = sp.sineModel_analysis(x,fs,winlen=3001,overlap=750,\n                            window='blackmanharris', nfft=None, thr=-10, \n                            maxn_sines=N,minDur=0.01, freq_devOffset=10,freq_devSlope=0.1)\n\nprint(fXst.shape, mXst.shape, pXst.shape)\n\n\n# plotting only frequency which have magnitude > 0dB\n\nfXt1 = (fXst.copy())*(mXst>0)\nfXt1[fXt1==0]=np.nan\n\nplt.figure(figsize=(13,7))\nplt.subplot(211)\nplt.plot(t,x)\nplt.xlim([t[0],t[-1]])\nplt.grid()\nplt.title('Original Audio')\nplt.ylabel('amplitude (\u03bcV)')\nplt.subplot(212)\nplt.imshow(mXt.T,aspect='auto',origin='lower',cmap='jet',extent=[t[0],t[-1],0,fs/2])\nplt.title('Spectrogram')\ntx = t[-1]*np.arange(fXt1.shape[0])/fXt1.shape[0]\nplt.plot(tx,fXt1,'-k',alpha=0.5)\nplt.xlim([0,tx[-1]])\nplt.title(f'Sinusoidal tracks: n={N}')\nplt.xlabel('time (s)')\nplt.ylabel('frequency (Hz)')\nplt.grid(alpha=0.3)\nplt.tight_layout()\nplt.show()"
      ]
    },
    {
      "cell_type": "markdown",
      "metadata": {},
      "source": [
        "## Synthesis of Audio from 20 sinusodal tracks\n\n"
      ]
    },
    {
      "cell_type": "code",
      "execution_count": null,
      "metadata": {
        "collapsed": false
      },
      "outputs": [],
      "source": [
        "Xr = sp.sineModel_synthesis(fXst, mXst, pXst,fs,overlap=750)\nprint(Xr.shape)\n\nmXrt,pXrt = sp.stft_analysis(Xr, winlen=441, overlap=220,window='blackmanharris',nfft=None)\n\nplt.figure(figsize=(13,6))\nplt.subplot(211)\nplt.plot(t,Xr[:len(x)])\nplt.xlim([t[0],t[-1]])\nplt.grid()\nplt.title(f'Reconstructed Audio from {N} Sinusoidal: $x_r(t)$')\nplt.ylabel('amplitude (\u03bcV)')\nplt.subplot(212)\nplt.imshow(mXrt.T,aspect='auto',origin='lower',cmap='jet',extent=[t[0],t[-1],0,fs/2])\nplt.title(r'Spectrogram of $x_r(t)$')\nplt.xlabel('time (s)')\nplt.ylabel('frequency (Hz)')\nplt.tight_layout()\nplt.show()"
      ]
    },
    {
      "cell_type": "markdown",
      "metadata": {},
      "source": [
        "## Residual: Discarded part of Audio - mostly hissing sound\n\n"
      ]
    },
    {
      "cell_type": "code",
      "execution_count": null,
      "metadata": {
        "collapsed": false
      },
      "outputs": [],
      "source": [
        "Xd = x - Xr[:len(x)]\n\nmXdt,pXdt = sp.stft_analysis(Xd, winlen=441, overlap=220,window='blackmanharris',nfft=None)\n\nplt.figure(figsize=(13,6))\nplt.subplot(211)\nplt.plot(t,Xd)\nplt.xlim([t[0],t[-1]])\nplt.grid()\nplt.title(r'Residual: Discarded part of Audio: $x_d(t) = x(t)-x_r(t)$')\nplt.ylabel('amplitude (\u03bcV)')\nplt.subplot(212)\nplt.imshow(mXdt.T,aspect='auto',origin='lower',cmap='jet',extent=[t[0],t[-1],0,fs/2])\nplt.title(r'Spectrogram of $x_d(t)$')\nplt.ylabel('frequency (Hz)')\nplt.tight_layout()\nplt.show()"
      ]
    },
    {
      "cell_type": "markdown",
      "metadata": {},
      "source": [
        "## Save files and Play with Jupyter\n\n```python\nimport IPython\nwavfile.write(f\"sinmodel_recons_\"+file_name, rate=fs, data=Xr[:len(x)].astype(np.int16))\nwavfile.write(f\"sinmodel_residual_\"+file_name, rate=fs, data=Xd.astype(np.int16))\ndisplay(IPython.display.Audio(data=x,rate=fs))\ndisplay(IPython.display.Audio(data=Xr[:len(x)],rate=fs))\ndisplay(IPython.display.Audio(data=Xd,rate=fs))\n```\n .. raw:: html\n\n    <div class=\"column-box\">\n    <p style=\"text-align:center;\">Original Audio</p>\n    <audio controls=\"\"><source src=\"https://github.com/spkit/data_samples/raw/main/files/singing-female.wav?raw=true\" type=\"audio/wav\" /></audio>\n    </div>\n\n    <div class=\"column-box\">\n    <p style=\"text-align:center;\">Reconstructed Audio</p>\n    <audio controls=\"\"><source src=\"https://github.com/spkit/data_samples/raw/main/files/sinmodel_recons_singing-female.wav?raw=true\" type=\"audio/wav\" /></audio>\n    </div>\n\n    <div class=\"column-box\">\n    <p style=\"text-align:center;\">Residual Audio</p>\n    <audio controls=\"\"><source src=\"https://github.com/spkit/data_samples/raw/main/files/sinmodel_residual_singing-female.wav?raw=true\" type=\"audio/wav\" /></audio>\n    </div>\n\n"
      ]
    }
  ],
  "metadata": {
    "kernelspec": {
      "display_name": "Python 3",
      "language": "python",
      "name": "python3"
    },
    "language_info": {
      "codemirror_mode": {
        "name": "ipython",
        "version": 3
      },
      "file_extension": ".py",
      "mimetype": "text/x-python",
      "name": "python",
      "nbconvert_exporter": "python",
      "pygments_lexer": "ipython3",
      "version": "3.10.13"
    }
  },
  "nbformat": 4,
  "nbformat_minor": 0
}