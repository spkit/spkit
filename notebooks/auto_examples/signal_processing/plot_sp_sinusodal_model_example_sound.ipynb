{
  "cells": [
    {
      "cell_type": "markdown",
      "metadata": {},
      "source": [
        "\n# Sinusoidal Model : Synthesis : Audio \n\nAnalysis and Synthesis Models\n\n* Sinusoidal Model: Audio\n"
      ]
    },
    {
      "cell_type": "code",
      "execution_count": null,
      "metadata": {
        "collapsed": false
      },
      "outputs": [],
      "source": [
        "import requests\nfrom scipy.io import wavfile\nimport numpy as np\nimport matplotlib.pyplot as plt\nimport spkit as sp\npath = 'https://github.com/MLEndDatasets/samples/raw/main/HWD_HP_hum_1.wav?raw=True'\nreq = requests.get(path)\nwith open('downloaded_file.wav', 'wb') as f:\n        f.write(req.content)\nfs, x = wavfile.read('downloaded_file.wav')\nt = np.arange(x.shape[0])/fs\nN=10\nfXst, mXst, pXst = sp.sineModel_analysis(x,fs,winlen=3001,overlap=750,\n                        window='blackmanharris', nfft=None, thr=-10,\n                        maxn_sines=N,minDur=0.01, freq_devOffset=10,freq_devSlope=0.1)\nxr = sp.sineModel_synthesis(fXst, mXst, pXst,fs,overlap=750,crop_end=False)\nmXt, pXt = sp.stft_analysis(x,winlen=3001,overlap=750,plot=False)\nfXt1 = (fXst.copy())*(mXst>0)\nfXt1[fXt1==0]=np.nan\ntx = t[-1]*np.arange(fXt1.shape[0])/fXt1.shape[0]\nfig, (ax1, ax2,ax3) = plt.subplots(3, 1, gridspec_kw={'height_ratios': [1,2,1]},figsize=(10,6))\nax1.plot(t,x)\nax1.set_xlim([t[0],t[-1]])\nax1.set_ylabel('X: input')\nax1.grid()\nax1.set_xticklabels('')\nax2.imshow(mXt.T,aspect='auto',origin='lower',cmap='jet',extent=[t[0],t[-1],0,fs/2],interpolation='bilinear')\nax2.plot(tx,fXt1,color='k',lw=1,label='sin-tracks')\nax2.set_ylabel('STFT(x)\\nFrequency (Hz)')\nax2.set_xticklabels('')\nax2.set_ylim([0,10000])\nax2.legend([f'sine-tracks (N={N})'])\nax3.plot(t,xr[:len(t)])\nax3.set_xlim([t[0],t[-1]])\nax3.set_ylabel('XR: recon')\nax3.grid()\nax3.set_xlabel('Time (s)')\nfig.suptitle('Sinusoidal Model: Analysis and Synthesis : Audio')\nplt.tight_layout()\nplt.show()"
      ]
    }
  ],
  "metadata": {
    "kernelspec": {
      "display_name": "Python 3",
      "language": "python",
      "name": "python3"
    },
    "language_info": {
      "codemirror_mode": {
        "name": "ipython",
        "version": 3
      },
      "file_extension": ".py",
      "mimetype": "text/x-python",
      "name": "python",
      "nbconvert_exporter": "python",
      "pygments_lexer": "ipython3",
      "version": "3.10.13"
    }
  },
  "nbformat": 4,
  "nbformat_minor": 0
}