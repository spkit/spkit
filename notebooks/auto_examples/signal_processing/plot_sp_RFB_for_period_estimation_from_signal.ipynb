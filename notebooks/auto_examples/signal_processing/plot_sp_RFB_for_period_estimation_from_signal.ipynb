{
  "cells": [
    {
      "cell_type": "markdown",
      "metadata": {},
      "source": [
        "\n# Ramanujan Filter Banks Example  \n"
      ]
    },
    {
      "cell_type": "code",
      "execution_count": null,
      "metadata": {
        "collapsed": false
      },
      "outputs": [],
      "source": [
        "import numpy as np\nimport matplotlib.pyplot as plt\nfrom mpl_toolkits.axes_grid1 import make_axes_locatable\nimport spkit as sp\n\n\n# # Example with Ramanujan Filter Banks"
      ]
    },
    {
      "cell_type": "markdown",
      "metadata": {},
      "source": [
        "## Signal with period 10 and SNR = 0\n\n"
      ]
    },
    {
      "cell_type": "code",
      "execution_count": null,
      "metadata": {
        "collapsed": false
      },
      "outputs": [],
      "source": [
        "period = 10\nSNR = 0\nx0 = np.zeros(30)\nx1 = np.random.randn(period)\nx1 = np.tile(x1,10)\nx  = np.r_[x0,x1,x0]\n\nx_noise = sp.add_noise(x,snr_db=SNR)\n\n# ## Period Estimation\n\nPmax = 40  # Maximum period expected\nRcq  = 10  # Number of repeats in each Ramanujan filter\nRav  = 2   # Number of repeats in each averaging filter\nTh   = 0.2 # Threshold zero out the output\n \ny,FR, FA = sp.ramanujan_filter(x_noise,Pmax=Pmax, Rcq=Rcq, Rav=Rav, Th=Th,return_filters=True)\n\n\nfig, ax = plt.subplots(2,1,figsize=(15,8),height_ratios=[1, 3])\nax[0].plot(x,label='signal: x')\nax[0].plot(x_noise, label='signal+noise: x_noise')\nax[0].set_xlabel('sample (n)')\nax[0].legend(ncol=2)\n\ndivider = make_axes_locatable(ax[1])\ncax = divider.append_axes('right', size='2%', pad=0.05)\n\nim = ax[1].imshow(y.T,aspect='auto',cmap='jet',extent=[1,len(x_noise),Pmax,1])\n#ax[1].set_colorbar(im)\nax[1].set_xlabel('sample (n)')\nax[1].set_ylabel('period (in samples)')\nfig.colorbar(im, cax=cax, orientation='vertical')\nplt.show()\n\nplt.figure()\nplt.stem(np.arange(1,y.shape[1]+1),np.sum(y,0))\nplt.xlabel('period (in samples)')\nplt.ylabel('strength')\nplt.show()\n\nprint('top 10 periods: ',np.argsort(np.sum(y,0))[::-1][:10]+1)\n\n\n# ## Ramanujan filter\n\nplt.figure(figsize=(15,5))\nfor i in range(10):\n    plt.plot(FR[i] - i*1)\n    \nplt.xlim([0,len(FR[i])])\nplt.yticks(-np.arange(10), np.arange(1,10+1))\nplt.show()\n\n\n# ###  30-40 filters\n\n\nplt.figure(figsize=(15,5))\nfor i in range(30,40):\n    plt.plot(FR[i] - (i-30)*1)\n    \nplt.xlim([0,len(FR[i])])\nplt.yticks(-np.arange(10), np.arange(1,10+1)+30)\nplt.show()"
      ]
    },
    {
      "cell_type": "markdown",
      "metadata": {},
      "source": [
        "## Period Estimation from specific range of period\n\n"
      ]
    },
    {
      "cell_type": "code",
      "execution_count": null,
      "metadata": {
        "collapsed": false
      },
      "outputs": [],
      "source": [
        "# ## Signal with period 30\n\nperiod = 30\nSNR = 0\n\nx0 = np.zeros(30)\nx1 = np.random.randn(period)\nx1 = np.tile(x1,10)\nx  = np.r_[x0,x1,x0]\n\nx_noise = sp.add_noise(x,snr_db=SNR)\n\n\n# ## Period estimation with range\n\n\ny,Plist = sp.ramanujan_filter_prange(x=x_noise,Pmin=20,Pmax=40, Rcq=10, Rav=2, thr=0.2,return_filters=False)\n\nfig, ax = plt.subplots(2,1,figsize=(15,8),height_ratios=[1, 3])\nax[0].plot(x,label='signal: x')\nax[0].plot(x_noise, label='signal+noise: x_noise')\nax[0].set_xlabel('sample (n)')\nax[0].legend(ncol=2)\n\ndivider = make_axes_locatable(ax[1])\ncax = divider.append_axes('right', size='2%', pad=0.05)\n\nim = ax[1].imshow(y.T,aspect='auto',cmap='jet',extent=[1,len(x_noise),Pmax,1])\n#ax[1].set_colorbar(im)\nax[1].set_xlabel('sample (n)')\nax[1].set_ylabel('period (in samples)')\nfig.colorbar(im, cax=cax, orientation='vertical')\nplt.show()\n\nPenrgy = np.sum(y,0)\n\nplt.figure()\nplt.stem(Plist,Penrgy)\nplt.xlabel('period (in samples)')\nplt.ylabel('strength')\nplt.show()\n\nprint('top 10 periods: ',Plist[np.argsort(Penrgy)[::-1]][:10])"
      ]
    },
    {
      "cell_type": "markdown",
      "metadata": {},
      "source": [
        "## Multiple Periods\n\n"
      ]
    },
    {
      "cell_type": "code",
      "execution_count": null,
      "metadata": {
        "collapsed": false
      },
      "outputs": [],
      "source": [
        "periods    = [10,14,18]\nsignal_length = 200\nSNR = 10\n\nx = np.zeros(signal_length)\n\nfor period in periods:\n    x_temp  = np.random.randn(period)\n    x_temp  = np.tile(x_temp,int(np.ceil(signal_length/period))) \n    x_temp  = x_temp[:signal_length]\n    x += x_temp\n    \nx_noise = sp.add_noise(x,snr_db=SNR)\n\n\ny,Plist = sp.ramanujan_filter_prange(x=x_noise,Pmin=5,Pmax=30, Rcq=10, Rav=2, thr=0.2,return_filters=False)\n\nfig, ax = plt.subplots(2,1,figsize=(15,8),height_ratios=[1, 3])\nax[0].plot(x,label='signal: x')\nax[0].plot(x_noise, label='signal+noise: x_noise')\nax[0].set_xlabel('sample (n)')\nax[0].legend(ncol=2)\n\ndivider = make_axes_locatable(ax[1])\ncax = divider.append_axes('right', size='2%', pad=0.05)\n\nim = ax[1].imshow(y.T,aspect='auto',cmap='jet',extent=[1,len(x_noise),Pmax,1])\n#ax[1].set_colorbar(im)\nax[1].set_xlabel('sample (n)')\nax[1].set_ylabel('period (in samples)')\nfig.colorbar(im, cax=cax, orientation='vertical')\nplt.show()\n\nPenrgy = np.sum(y,0)\nplt.figure()\nplt.stem(Plist,Penrgy)\nplt.xlabel('period (in samples)')\nplt.ylabel('strength')\nplt.show()\n\nprint('top 10 periods: ',Plist[np.argsort(Penrgy)[::-1]][:10])"
      ]
    }
  ],
  "metadata": {
    "kernelspec": {
      "display_name": "Python 3",
      "language": "python",
      "name": "python3"
    },
    "language_info": {
      "codemirror_mode": {
        "name": "ipython",
        "version": 3
      },
      "file_extension": ".py",
      "mimetype": "text/x-python",
      "name": "python",
      "nbconvert_exporter": "python",
      "pygments_lexer": "ipython3",
      "version": "3.10.13"
    }
  },
  "nbformat": 4,
  "nbformat_minor": 0
}