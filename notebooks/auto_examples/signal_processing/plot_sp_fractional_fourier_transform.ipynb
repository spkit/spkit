{
  "cells": [
    {
      "cell_type": "markdown",
      "metadata": {},
      "source": [
        "\n# Fractional Fourier Transform: FRFT\n\nAnalysis and Synthesis Models\n\nFractional Fourier Transform: FRFT\n"
      ]
    },
    {
      "cell_type": "code",
      "execution_count": null,
      "metadata": {
        "collapsed": false
      },
      "outputs": [],
      "source": [
        "import numpy as np\nimport matplotlib.pyplot as plt\nimport spkit as sp\nprint('spkit version :', sp.__version__)\n\n\n\nt = np.linspace(0,2,500)\nx = np.cos(2*np.pi*5*t)\nxf = sp.frft(x,alpha=0.5)\nx1 = sp.ifrft(xf,alpha=0.5)\n\n\n\nplt.figure(figsize=(10,5))\nplt.subplot(311)\nplt.plot(t,x,label='x: input signal')\nplt.xlim([t[0],t[-1]])\nplt.xlabel('time (s)')\nplt.ylabel('x')\nplt.legend(loc='upper right')\nplt.subplot(312)\nplt.plot(t,xf.real,label='xf.real',alpha=0.9)\nplt.plot(t,xf.imag,label='xf.imag',alpha=0.9)\nplt.plot(t,np.abs(xf),label='|xf|',alpha=0.9)\nplt.xlim([t[0],t[-1]])\nplt.ylabel(r'xf: FRFT(x) $\\alpha=0.5$')\nplt.legend(loc='upper right')\nplt.subplot(313)\nplt.plot(t,x1.real,label='x1.real',alpha=0.9)\nplt.plot(t,x1.imag,label='x1.imag',alpha=0.9)\nplt.plot(t,np.abs(x1),label='|x1|',alpha=0.9)\nplt.xlim([t[0],t[-1]])\nplt.ylabel(r'x1: IFRFT(xf) $\\alpha=0.5$')\nplt.legend(loc='upper right')\nplt.tight_layout()\nplt.show()"
      ]
    }
  ],
  "metadata": {
    "kernelspec": {
      "display_name": "Python 3",
      "language": "python",
      "name": "python3"
    },
    "language_info": {
      "codemirror_mode": {
        "name": "ipython",
        "version": 3
      },
      "file_extension": ".py",
      "mimetype": "text/x-python",
      "name": "python",
      "nbconvert_exporter": "python",
      "pygments_lexer": "ipython3",
      "version": "3.10.13"
    }
  },
  "nbformat": 4,
  "nbformat_minor": 0
}