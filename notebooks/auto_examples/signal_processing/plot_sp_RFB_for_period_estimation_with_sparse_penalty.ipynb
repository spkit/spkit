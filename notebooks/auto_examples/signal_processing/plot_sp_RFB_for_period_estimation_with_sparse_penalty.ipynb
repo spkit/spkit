{
  "cells": [
    {
      "cell_type": "markdown",
      "metadata": {},
      "source": [
        "\n# Ramanujan Dictionary  - with sparse penalty\n"
      ]
    },
    {
      "cell_type": "code",
      "execution_count": null,
      "metadata": {
        "collapsed": false
      },
      "outputs": [],
      "source": [
        "import numpy as np\nimport matplotlib.pyplot as plt\nimport sys, scipy\nfrom scipy import linalg as LA\nimport spkit as sp\nprint('spkit version :', sp.__version__)\n\n\n# # Ramanujan Dictionary  - with sparse penalty"
      ]
    },
    {
      "cell_type": "markdown",
      "metadata": {},
      "source": [
        "## Signal with 3-periods and SNR=10\n\n"
      ]
    },
    {
      "cell_type": "code",
      "execution_count": null,
      "metadata": {
        "collapsed": false
      },
      "outputs": [],
      "source": [
        "#np.random.seed(None)\n\nperiods    = [3,7,11]\nsignal_length = 200\nSNR = 10\n\nx = np.zeros(signal_length)\n\nfor period in periods:\n    x_temp  = np.random.randn(period)\n    x_temp  = np.tile(x_temp,int(np.ceil(signal_length/period))) \n    x_temp  = x_temp[:signal_length]\n    x_temp /= LA.norm(x_temp,2)\n    x += x_temp\n    \nx_noise = sp.add_noise(x,snr_db=SNR)\n\nPmax = 80\n\n# L1 regularisation with sparse penalty\nperiod_est_l1_1l = sp.regularised_period_estimation(x_noise,Pmax=Pmax,method='Ramanujan',lambd=1, L=1, cvxsol=True)\n\n# L1 regularisation with no penalty\nperiod_est_l1_0l = sp.regularised_period_estimation(x_noise,Pmax=Pmax,method='Ramanujan',lambd=0, L=1, cvxsol=True)\n\n# L2 regularisation with sparse penalty \nperiod_est_l2_1l = sp.regularised_period_estimation(x_noise,Pmax=Pmax,method='Ramanujan',lambd=1, L=2, cvxsol=False)\n\n# No regularisation no  penalty\ny =  sp.ramanujan_filter(x_noise,Pmax = Pmax, Rcq=10, Rav=2, Th=0.2)\nperiod_est_rbf  = np.sum(y,0)\n\nprint('Top 10 periods : ')\nprint(' - using L1 regularisation with sparse penalty    : ',np.argsort(period_est_l1_1l)[::-1][:10]+1)\nprint(' - using L1 regularisation with no penalty : ',np.argsort(period_est_l1_0l)[::-1][:10]+1)\nprint(' - using L2 regularisation with sparse penalty    : ',np.argsort(period_est_l2_1l)[::-1][:10]+1)\nprint(' - using no regularisation no  penalty     : ',np.argsort(period_est_rbf)[::-1][:10]+1)\n\nplt.figure(figsize=(12,12))\nplt.subplot(411)\nplt.plot(x,label='signal: x')\nplt.plot(x_noise, label='signal+noise: x_noise')\n#plt.text(5,1.01*np.max(x_noise) ,f'signal with repitative patterns')\nplt.xlim([0,len(x)])\nplt.xlabel('sample (n)')\nplt.legend(bbox_to_anchor=(1,1))\nplt.subplot(423)\nXF = np.abs(np.fft.fft(x_noise))[:1+len(x_noise)//2]\nfq = np.arange(len(XF))/(len(XF)-1)\nplt.stem(fq,XF)\nplt.title('DFT')\nplt.ylabel('| X |')\nplt.xlabel(r'frequency $\\times$ ($\\omega$/2)   ~   1/period ')\n\nplt.subplot(424)\nplt.stem(np.arange(len(period_est_l1_1l))+1,period_est_l1_1l)\nplt.xlabel('period (in samples)')\nplt.ylabel('strength')\nplt.title('L1 + sparse penality')\n\nplt.subplot(425)\nplt.stem(np.arange(len(period_est_l2_1l))+1,period_est_l2_1l)\nplt.xlabel('period (in samples)')\nplt.ylabel('strength')\nplt.title('L2 +  sparse penalty')\nplt.subplot(426)\nplt.stem(np.arange(len(period_est_l1_0l))+1,period_est_l1_0l)\nplt.xlabel('period (in samples)')\nplt.ylabel('strength')\nplt.title('L1 without penality')\n\n\nplt.subplot(427)\nim = plt.imshow(y.T,aspect='auto',cmap='jet',extent=[1,len(x_noise),Pmax,1])\nplt.colorbar(im)\nplt.xlabel('sample (n)')\nplt.ylabel('period (in samples)')\n\nplt.subplot(428)\nplt.stem(np.arange(1,y.shape[1]+1),period_est_rbf)\nplt.xlabel('period (in samples)')\nplt.ylabel('strength')\nplt.tight_layout()\nplt.show()"
      ]
    }
  ],
  "metadata": {
    "kernelspec": {
      "display_name": "Python 3",
      "language": "python",
      "name": "python3"
    },
    "language_info": {
      "codemirror_mode": {
        "name": "ipython",
        "version": 3
      },
      "file_extension": ".py",
      "mimetype": "text/x-python",
      "name": "python",
      "nbconvert_exporter": "python",
      "pygments_lexer": "ipython3",
      "version": "3.10.13"
    }
  },
  "nbformat": 4,
  "nbformat_minor": 0
}