{
  "cells": [
    {
      "cell_type": "markdown",
      "metadata": {},
      "source": [
        "\n# ATAR: Automatic and Tunable Artifact Removal Algorithm\n\n\n**ATAR: Automatic and Tunable Artifact Removal Algorithm -  Tuning**\n\nThe algorithm is based on wavelet packet decomposion (WPD), the full description of algorithm can be found here \n[Automatic and Tunable Artifact Removal Algorithm for EEG](https://doi.org/10.1016/j.bspc.2019.101624) from the article [1]. \nFigure 1 shows the the block diagram and operating mode of filtering.\n\n.. figure:: https://raw.githubusercontent.com/spkit/spkit.github.io/master/assets/images/ATAR_BD_FilteringMode_1.png\n    :align: center\n\n    Figure 1: ATAR Algorithm\n\n\nThe algorithm is applied on the given multichannel signal X (n,nch), window wise and reconstructed with \noverall add method. The defualt window size is set to 1 sec (128 samples). For each window, the threshold \n$\\theta_\\alpha$ is computed and applied to filter the wavelet coefficients.\n\nThere is manily one parameter that can be tuned $\\beta$ with different operating modes and other \nsettings. Here is the list of parameters and there simplified meaning given:\n\nParameters:\n\n    * $\\beta$ : This is a main parameter to tune, highher the value, more aggressive the algorithm to \n      remove the artifacts. By default it is set to 0.1. $\\beta$ is postive float value.\n\n    * ***OptMode***: This sets the mode of operation, which decides hoe to remove the artifact. By default \n      it is set to 'soft', which means Soft Thresholding, in this mode, rather than removing the pressumed artifact, \n      it is suppressed to the threshold, softly. `OptMode='linAtten'`, suppresses the pressumed artifact depending \n      on how far it is from threshold. \n      Finally, the most common mode - Elimination (OptMode='elim'), which remove the pressumed artifact.\n\n      Soft Thresholding and Linear Attenuation require addition parameters to set the associated thresholds which \n      are by default set to bf=2, gf=0.8. \n\n    * ***wv=db3***: Wavelet funtion, by default set to db3, could be any of ['db3'.....'db38', 'sym2.....sym20', 'coif1.....coif17', 'bior1.1....bior6.8', 'rbio1.1...rbio6.8', 'dmey']\n\n    * $k_1$, $k_2$: Lower and upper bounds on threshold $\\theta_\\alpha$.\n\n    * ***IPR=[25,75]***: interpercentile range, range used to compute threshold\n\nFigure below, shows the affect of $\\beta$ on a segment of signal with three different modes.\n\n.. figure:: https://raw.githubusercontent.com/Nikeshbajaj/spkit/master/figures/atar_beta_tune.gif\n    :align: center \n    :width: 700\n\n\n**Reference:**\n\n    * [1] Bajaj, Nikesh, et al. \"Automatic and tunable algorithm for EEG artifact removal using \n       wavelet decomposition with applications in predictive modeling during auditory tasks.\" \n       Biomedical Signal Processing and Control 55 (2020): 101624.\n\n\nThere are three functions in **spkit.eeg** for **ATAR algorithm**\n\n    * **spkit.eeg.ATAR(...)**  \n    * spkit.eeg.ATAR_1Ch(...)\n    * spkit.eeg.ATAR_mCh(...)\n\n***spkit.eeg.ATAR_1Ch*** is for single channel input signal x of shape (n,), where as, ***spkit.eeg.ATAR_mCh*** \nis for multichannel signal X with shape (n,ch), which uses joblib for parallel processing of multi channels. \nFor some OS, joblib raise an error of ***BrokenProcessPool***, in that case use  ***spkit.eeg.ATAR_mCh_noParallel***, \nwhich is same as ***spkit.eeg.ATAR_mCh***, except parallel processing. Alternatively, use ***spkit.eeg.ATAR_1Ch*** \nwith for loop for each channel.\n\n***spkit.eeg.ATAR*** is generalized function, this will call ***spkit.eeg.ATAR_1Ch*** is single channel \nis passed else ***spkit.eeg.ATAR_mCh*** and with *use_joblib* agrument, \nit can be set to try parallel processing, else will process each channel individually. \n\nWe recommed to use ***spkit.eeg.ATAR***.\n"
      ]
    },
    {
      "cell_type": "code",
      "execution_count": null,
      "metadata": {
        "collapsed": false
      },
      "outputs": [],
      "source": [
        "# Importing libraries/spkit\nimport numpy as np\nimport matplotlib.pyplot as plt\nimport warnings\nwarnings.filterwarnings(\"ignore\")\n\nimport spkit as sp\nprint('spkit version :', sp.__version__)\n\n\n# # Import EEG sample data\nX, fs, ch_names = sp.data.eeg_sample_14ch()\n#X = sp.filterDC_sGolay(X, window_length=fs//3+1)\n\n# ## Filter with highpass\n\nXf = sp.filter_X(X.copy(),fs=fs, band=[0.5], btype='highpass',ftype='SOS')\n\n\nt = np.arange(Xf.shape[0])/fs\nplt.figure(figsize=(12,5))\nplt.plot(t,Xf+np.arange(-7,7)*200)\nplt.xlim([t[0],t[-1]])\nplt.xlabel('time (sec)')\nplt.yticks(np.arange(-7,7)*200,ch_names)\nplt.grid()\nplt.title('Xf: 14 channel - EEG Signal (filtered)')\nplt.show()"
      ]
    },
    {
      "cell_type": "markdown",
      "metadata": {},
      "source": [
        "## Applying ATAR Algorithm\n\n"
      ]
    },
    {
      "cell_type": "markdown",
      "metadata": {},
      "source": [
        "## Soft Thresholding:\n\n"
      ]
    },
    {
      "cell_type": "code",
      "execution_count": null,
      "metadata": {
        "collapsed": false
      },
      "outputs": [],
      "source": [
        "# default is set to: OptMode='soft' and :math:`\\beta=0.1`\n\n\nXR = sp.eeg.ATAR(Xf.copy(),verbose=0)\nXR.shape\n\n\nplt.figure(figsize=(12,5))\nplt.plot(t,XR+np.arange(-7,7)*200)\nplt.xlim([t[0],t[-1]])\nplt.xlabel('time (sec)')\nplt.yticks(np.arange(-7,7)*200,ch_names)\nplt.grid()\nplt.title('XR: Corrected Signal')\nplt.show()\n\nplt.figure(figsize=(12,5))\nplt.plot(t,(Xf-XR)+np.arange(-7,7)*200)\nplt.xlim([t[0],t[-1]])\nplt.xlabel('time (sec)')\nplt.yticks(np.arange(-7,7)*200,ch_names)\nplt.grid()\nplt.title('Xf - XR: Difference (removed signal)')\nplt.show()"
      ]
    },
    {
      "cell_type": "markdown",
      "metadata": {},
      "source": [
        "## Linear Attenuation:\n\n"
      ]
    },
    {
      "cell_type": "code",
      "execution_count": null,
      "metadata": {
        "collapsed": false
      },
      "outputs": [],
      "source": [
        "XR = sp.eeg.ATAR(Xf.copy(),verbose=0,OptMode='linAtten')\nprint(XR.shape)\n\n\nplt.figure(figsize=(12,5))\nplt.plot(t,XR+np.arange(-7,7)*200)\nplt.xlim([t[0],t[-1]])\nplt.xlabel('time (sec)')\nplt.yticks(np.arange(-7,7)*200,ch_names)\nplt.grid()\nplt.title('XR: Corrected Signal')\nplt.show()\n\nplt.figure(figsize=(12,5))\nplt.plot(t,(Xf-XR)+np.arange(-7,7)*200)\nplt.xlim([t[0],t[-1]])\nplt.xlabel('time (sec)')\nplt.yticks(np.arange(-7,7)*200,ch_names)\nplt.grid()\nplt.title('Xf - XR: Difference (removed signal)')\nplt.show()"
      ]
    },
    {
      "cell_type": "markdown",
      "metadata": {},
      "source": [
        "## Elimination:\n\n"
      ]
    },
    {
      "cell_type": "code",
      "execution_count": null,
      "metadata": {
        "collapsed": false
      },
      "outputs": [],
      "source": [
        "XR = sp.eeg.ATAR(Xf.copy(),verbose=0,OptMode='elim')\nXR.shape\n\n\nplt.figure(figsize=(12,5))\nplt.plot(t,XR+np.arange(-7,7)*200)\nplt.xlim([t[0],t[-1]])\nplt.xlabel('time (sec)')\nplt.yticks(np.arange(-7,7)*200,ch_names)\nplt.grid()\nplt.title('XR: Corrected Signal')\nplt.show()\n\nplt.figure(figsize=(12,5))\nplt.plot(t,(Xf-XR)+np.arange(-7,7)*200)\nplt.xlim([t[0],t[-1]])\nplt.xlabel('time (sec)')\nplt.yticks(np.arange(-7,7)*200,ch_names)\nplt.grid()\nplt.title('Xf - XR: Difference (removed signal)')\nplt.show()"
      ]
    },
    {
      "cell_type": "markdown",
      "metadata": {},
      "source": [
        "## Tuning $\\beta$ with 'soft' : Controlling the aggressiveness\n\n"
      ]
    },
    {
      "cell_type": "code",
      "execution_count": null,
      "metadata": {
        "collapsed": false
      },
      "outputs": [],
      "source": [
        "betas = np.r_[np.arange(0.01,0.1,0.02), np.arange(0.1,1, 0.1)].round(2)\n\nfor b in betas:\n    XR = sp.eeg.ATAR(Xf.copy(),verbose=0,beta=b,OptMode='soft')\n    XR.shape\n\n    plt.figure(figsize=(15,5))\n    plt.subplot(121)\n    plt.plot(t,XR+np.arange(-7,7)*200)\n    plt.xlim([t[0],t[-1]])\n    plt.xlabel('time (sec)')\n    plt.yticks(np.arange(-7,7)*200,ch_names)\n    plt.grid()\n    plt.title('XR: Corrected Signal: '+r'$\\beta=$' + f'{b}')\n    \n    plt.subplot(122)\n    plt.plot(t,(Xf-XR)+np.arange(-7,7)*200)\n    plt.xlim([t[0],t[-1]])\n    plt.xlabel('time (sec)')\n    plt.yticks(np.arange(-7,7)*200,ch_names)\n    plt.grid()\n    plt.title('Xf - XR: Difference (removed signal)')\n    plt.show()"
      ]
    },
    {
      "cell_type": "markdown",
      "metadata": {},
      "source": [
        "## Tuning $\\beta$ with 'elim'\n\n"
      ]
    },
    {
      "cell_type": "code",
      "execution_count": null,
      "metadata": {
        "collapsed": false
      },
      "outputs": [],
      "source": [
        "betas = np.r_[np.arange(0.01,0.1,0.02), np.arange(0.1,1, 0.1)].round(2)\n\nfor b in betas:\n    XR = sp.eeg.ATAR(Xf.copy(),verbose=0,beta=b,OptMode='elim')\n    XR.shape\n\n    plt.figure(figsize=(15,5))\n    plt.subplot(121)\n    plt.plot(t,XR+np.arange(-7,7)*200)\n    plt.xlim([t[0],t[-1]])\n    plt.xlabel('time (sec)')\n    plt.yticks(np.arange(-7,7)*200,ch_names)\n    plt.grid()\n    plt.title('XR: Corrected Signal: '+r'$\\beta=$' + f'{b}')\n    \n    plt.subplot(122)\n    plt.plot(t,(Xf-XR)+np.arange(-7,7)*200)\n    plt.xlim([t[0],t[-1]])\n    plt.xlabel('time (sec)')\n    plt.yticks(np.arange(-7,7)*200,ch_names)\n    plt.grid()\n    plt.title('Xf - XR: Difference (removed signal)')\n    plt.show()"
      ]
    },
    {
      "cell_type": "markdown",
      "metadata": {},
      "source": [
        "## Other settings\n\n"
      ]
    },
    {
      "cell_type": "markdown",
      "metadata": {},
      "source": [
        "## Changing wavelet function\n\n"
      ]
    },
    {
      "cell_type": "code",
      "execution_count": null,
      "metadata": {
        "collapsed": false
      },
      "outputs": [],
      "source": [
        "XR = sp.eeg.ATAR(Xf.copy(),wv='db8',beta=0.01,OptMode='elim',verbose=0,)\nXR.shape\n\nplt.figure(figsize=(15,5))\nplt.subplot(121)\nplt.plot(t,XR+np.arange(-7,7)*200)\nplt.xlim([t[0],t[-1]])\nplt.xlabel('time (sec)')\nplt.yticks(np.arange(-7,7)*200,ch_names)\nplt.grid()\nplt.title('XR: Corrected Signal: '+r'$wv=db8$')\n\nplt.subplot(122)\nplt.plot(t,(Xf-XR)+np.arange(-7,7)*200)\nplt.xlim([t[0],t[-1]])\nplt.xlabel('time (sec)')\nplt.yticks(np.arange(-7,7)*200,ch_names)\nplt.grid()\nplt.title('Xf - XR: Difference (removed signal)')\nplt.show()\n\n\nXR = sp.eeg.ATAR_mCh_noParallel(Xf.copy(),wv='db32',beta=0.01,OptMode='elim',verbose=0,)\nXR.shape\n\nplt.figure(figsize=(15,5))\nplt.subplot(121)\nplt.plot(t,XR+np.arange(-7,7)*200)\nplt.xlim([t[0],t[-1]])\nplt.xlabel('time (sec)')\nplt.yticks(np.arange(-7,7)*200,ch_names)\nplt.grid()\nplt.title('XR: Corrected Signal: '+r'$wv=db32$')\n\nplt.subplot(122)\nplt.plot(t,(Xf-XR)+np.arange(-7,7)*200)\nplt.xlim([t[0],t[-1]])\nplt.xlabel('time (sec)')\nplt.yticks(np.arange(-7,7)*200,ch_names)\nplt.grid()\nplt.title('Xf - XR: Difference (removed signal)')\nplt.show()"
      ]
    },
    {
      "cell_type": "markdown",
      "metadata": {},
      "source": [
        "## Changing upper and lower bounds: $k_1$, $k_2$\n\n"
      ]
    },
    {
      "cell_type": "code",
      "execution_count": null,
      "metadata": {
        "collapsed": false
      },
      "outputs": [],
      "source": [
        "# :math:`k_1` and :math:`k_2` are lower and upper bound on the threshold :math:`\\theta_\\alpha`. :math:`k_1` is set to 10, \n# which means, the lowest threshold value will be 10, this helps to prevent the removal of entire signal (zeroing out) due \n# to present of high magnitute of artifact. :math:`k_2` is largest threshold value, which in terms set \n# the decaying curve of threshold :math:`\\theta_\\alpha`. Increasing k2 will make the removal less aggressive\n\nXR = sp.eeg.ATAR(Xf.copy(),wv='db3',beta=0.1,OptMode='elim',verbose=0,k1=10, k2=200)\nXR.shape\n\nplt.figure(figsize=(15,5))\nplt.subplot(121)\nplt.plot(t,XR+np.arange(-7,7)*200)\nplt.xlim([t[0],t[-1]])\nplt.xlabel('time (sec)')\nplt.yticks(np.arange(-7,7)*200,ch_names)\nplt.grid()\nplt.title('XR: Corrected Signal: '+r'$k_2=200$')\n\nplt.subplot(122)\nplt.plot(t,(Xf-XR)+np.arange(-7,7)*200)\nplt.xlim([t[0],t[-1]])\nplt.xlabel('time (sec)')\nplt.yticks(np.arange(-7,7)*200,ch_names)\nplt.grid()\nplt.title('Xf - XR: Difference (removed signal)')\nplt.show()"
      ]
    },
    {
      "cell_type": "markdown",
      "metadata": {},
      "source": [
        "## Changing IPR -  Interpercentile range\n\n"
      ]
    },
    {
      "cell_type": "code",
      "execution_count": null,
      "metadata": {
        "collapsed": false
      },
      "outputs": [],
      "source": [
        "# **IPR is interpercentile range**, which is set to 50% (IPR=[25,75]) as default (inter-quartile range), incresing the range increses the aggressiveness of removing artifacts. \n\n\n\nXR = sp.eeg.ATAR(Xf.copy(),wv='db3',beta=0.1,OptMode='elim',verbose=0,k1=10, k2=200, IPR=[15,85])\n\nplt.figure(figsize=(15,5))\nplt.subplot(121)\nplt.plot(t,XR+np.arange(-7,7)*200)\nplt.xlim([t[0],t[-1]])\nplt.xlabel('time (sec)')\nplt.yticks(np.arange(-7,7)*200,ch_names)\nplt.grid()\nplt.title('XR: Corrected Signal: '+r'$IPR=[15,85]$~ 70%')\n\nplt.subplot(122)\nplt.plot(t,(Xf-XR)+np.arange(-7,7)*200)\nplt.xlim([t[0],t[-1]])\nplt.xlabel('time (sec)')\nplt.yticks(np.arange(-7,7)*200,ch_names)\nplt.grid()\nplt.title('Xf - XR: Difference (removed signal)')\nplt.show()"
      ]
    },
    {
      "cell_type": "markdown",
      "metadata": {},
      "source": [
        "## Using the fix threshold $\\theta_\\alpha$\n\n"
      ]
    },
    {
      "cell_type": "code",
      "execution_count": null,
      "metadata": {
        "collapsed": false
      },
      "outputs": [],
      "source": [
        "# Using the fix threshold $\\theta_\\alpha=300$,  to all the windows\n\nXR = sp.eeg.ATAR(Xf.copy(),wv='db3',thr_method=None,theta_a=300,OptMode='elim',verbose=0)\n\nplt.figure(figsize=(15,5))\nplt.subplot(121)\nplt.plot(t,XR+np.arange(-7,7)*200)\nplt.xlim([t[0],t[-1]])\nplt.xlabel('time (sec)')\nplt.yticks(np.arange(-7,7)*200,ch_names)\nplt.grid()\nplt.title('XR: Corrected Signal: '+r'$\\theta_\\alpha=300$')\n\nplt.subplot(122)\nplt.plot(t,(Xf-XR)+np.arange(-7,7)*200)\nplt.xlim([t[0],t[-1]])\nplt.xlabel('time (sec)')\nplt.yticks(np.arange(-7,7)*200,ch_names)\nplt.grid()\nplt.title('Xf - XR: Difference (removed signal)')\nplt.show()"
      ]
    },
    {
      "cell_type": "markdown",
      "metadata": {},
      "source": [
        "## Changing window length (5 sec)\n\n"
      ]
    },
    {
      "cell_type": "code",
      "execution_count": null,
      "metadata": {
        "collapsed": false
      },
      "outputs": [],
      "source": [
        "# **winsize** is be default set to 128 (1 sec), assuming 128 sampling rate, which can be changed as needed. In following example it is changed to 5 sec.\n\n\nXR = sp.eeg.ATAR(Xf.copy(),winsize=128*5,beta=0.01,OptMode='elim',verbose=0,)\n\nplt.figure(figsize=(15,5))\nplt.subplot(121)\nplt.plot(t,XR+np.arange(-7,7)*200)\nplt.xlim([t[0],t[-1]])\nplt.xlabel('time (sec)')\nplt.yticks(np.arange(-7,7)*200,ch_names)\nplt.grid()\nplt.title('XR: Corrected Signal: '+r'$winsize=5sec$')\n\nplt.subplot(122)\nplt.plot(t,(Xf-XR)+np.arange(-7,7)*200)\nplt.xlim([t[0],t[-1]])\nplt.xlabel('time (sec)')\nplt.yticks(np.arange(-7,7)*200,ch_names)\nplt.grid()\nplt.title('Xf - XR: Difference (removed signal)')\nplt.show()"
      ]
    }
  ],
  "metadata": {
    "kernelspec": {
      "display_name": "Python 3",
      "language": "python",
      "name": "python3"
    },
    "language_info": {
      "codemirror_mode": {
        "name": "ipython",
        "version": 3
      },
      "file_extension": ".py",
      "mimetype": "text/x-python",
      "name": "python",
      "nbconvert_exporter": "python",
      "pygments_lexer": "ipython3",
      "version": "3.10.13"
    }
  },
  "nbformat": 4,
  "nbformat_minor": 0
}