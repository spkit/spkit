{
  "cells": [
    {
      "cell_type": "markdown",
      "metadata": {},
      "source": [
        "\n# EEG Artifact removal using ATAR\n\nATAR: Automatic and Tunable Artifact Removal Algorithm\n\n**ATAR Algorithm -  Automatic and Tunable Artifact Removal Algorithm for EEG Signal.** \n\n\n    Apply ATAR on short windows of signal (single channel):\n\n    Signal is decomposed in smaller overlapping windows and reconstructed after correcting using overlap-add method.\n\n    For more details, check [1]_\n\n    **Operating Modes**\n\n    **1. Soft Thresholding**\n\n    .. math ::\n\n       \\lambda_s (w)  &=  w  & \\quad \\text{if } |w|<\\theta_{\\gamma}\n\n          &=  \\theta_{\\alpha} \\frac{1 - e^{\\alpha w}}{1 + e^{\\alpha w}}   & \\quad \\text{otherwise}\n\n\n    **2. Elimination**\n\n    .. math ::\n\n       \\lambda_e (w)  &=  w  & \\quad \\text{if } |w| \\le \\theta_{\\alpha}\n\n         &=  0   & \\quad \\text{otherwise}\n\n\n    **3. Linear Attenuation**\n    \n    .. math ::\n\n       \\lambda_a (w)  &=  w  & \\quad \\text{if } |w| \\le \\theta_{\\alpha}\n\n              &=  sgn(w) \\theta_{\\alpha} \\Big( 1 -  \\frac{|w| - \\theta_{\\alpha}}{\\theta_{\\beta}-\\theta_{\\alpha}} \\Big) & \\quad \\text{if } \\theta_{\\alpha} < |w| \\le \\theta_{\\beta}\n              \n              &=  0   & \\quad \\text{otherwise}\n\n\n    **Computing Threshold**\n\n    * $f_{\\beta}(r)  = k_2 \\cdot exp \\Big(-\\beta \\frac{w_{max}}{k_2} \\times \\frac{r}{2} \\Big)$\n\n    * $\\theta_{\\alpha}  =  f_{\\beta}(r)  \\quad \\text{if } f_{\\beta}(r) \\ge k_1$ otherwise $\\theta_{\\alpha}  =  k_1$\n\n    * $\\theta_{\\gamma}  = g_f \\times \\theta_{\\alpha}$ ,  where a default value for 'g_f = 0.8' **For Soft-threshold**\n    \n    * $\\theta_{\\beta}  = b_f \\times \\theta_{\\alpha}$ , where a default value for 'b_f = 2' **For Linear Attenuation**\n"
      ]
    },
    {
      "cell_type": "code",
      "execution_count": null,
      "metadata": {
        "collapsed": false
      },
      "outputs": [],
      "source": [
        "# Importing libraries/spkit\nimport numpy as np\nimport matplotlib.pyplot as plt\nimport warnings\nwarnings.filterwarnings(\"ignore\")\n\nimport spkit as sp\nprint('spkit version :', sp.__version__)"
      ]
    },
    {
      "cell_type": "markdown",
      "metadata": {},
      "source": [
        "## Load and filter EEG Signal\n\n"
      ]
    },
    {
      "cell_type": "code",
      "execution_count": null,
      "metadata": {
        "collapsed": false
      },
      "outputs": [],
      "source": [
        "# Load sample EEG Data ( 16 sec, 128 smapling rate, 14 channel)\n# Filter signal (with IIR highpass 0.5Hz)\n\nX, fs, ch_names = sp.data.eeg_sample_14ch()\nXf = sp.filter_X(X.copy(),fs=128.0, band=[0.5], btype='highpass',ftype='SOS')\nprint(Xf.shape)"
      ]
    },
    {
      "cell_type": "markdown",
      "metadata": {},
      "source": [
        "Artifact removal using ATAR: Single Channel\n\n\n"
      ]
    },
    {
      "cell_type": "code",
      "execution_count": null,
      "metadata": {
        "collapsed": false
      },
      "outputs": [],
      "source": [
        "x = Xf[:,0] \nxc1 = sp.eeg.ATAR(x,wv='db3', winsize=128, thr_method='ipr',beta=0.1, k1=10, k2=100,OptMode='soft',verbose=1)\nxc2 = sp.eeg.ATAR(x,wv='db3', winsize=128, thr_method='ipr',beta=0.1, k1=10, k2=100,OptMode='linAtten',verbose=1)\nxc3 = sp.eeg.ATAR(x,wv='db3', winsize=128, thr_method='ipr',beta=0.1, k1=10, k2=100,OptMode='elim',verbose=1)"
      ]
    },
    {
      "cell_type": "markdown",
      "metadata": {},
      "source": [
        "Artifact removal using ATAR: Multi-Channel\n\n\n"
      ]
    },
    {
      "cell_type": "code",
      "execution_count": null,
      "metadata": {
        "collapsed": false
      },
      "outputs": [],
      "source": [
        "XR = sp.eeg.ATAR(Xf.copy(),verbose=0)\nprint(XR.shape)"
      ]
    },
    {
      "cell_type": "markdown",
      "metadata": {},
      "source": [
        "## Plots\n\n"
      ]
    },
    {
      "cell_type": "code",
      "execution_count": null,
      "metadata": {
        "collapsed": false
      },
      "outputs": [],
      "source": [
        "t = np.arange(Xf.shape[0])/fs\n\nplt.figure(figsize=(10,5))\nplt.subplot(111)\nplt.plot(t,x, label='$x$: raw EEG - single channel')\nplt.plot(t,xc1,label=r'$x_{c1}$: Soft Thresholding')\nplt.plot(t,xc2,label=r'$x_{c2}$: Linear Attenuation')\nplt.plot(t,xc3,label=r'$x_{c3}$: Elimination')\nplt.xlim([9,12])\nplt.ylim([-200,200])\nplt.legend(bbox_to_anchor=(0.5,0.99),ncol=2,fontsize=8)\nplt.grid()\nplt.title(r'ATAR Algorithm')\nplt.xlabel('time (s)')\nplt.show()\n\nplt.figure(figsize=(12,8))\nplt.subplot(211)\nplt.plot(t,XR+np.arange(-7,7)*200)\nplt.xlim([t[0],t[-1]])\nplt.xlabel('time (sec)')\nplt.yticks(np.arange(-7,7)*200,ch_names)\nplt.grid()\nplt.title('XR: Corrected Signal')\nplt.subplot(212)\nplt.plot(t,(Xf-XR)+np.arange(-7,7)*200)\nplt.xlim([t[0],t[-1]])\nplt.xlabel('time (sec)')\nplt.yticks(np.arange(-7,7)*200,ch_names)\nplt.grid()\nplt.title('Xf - XR: Difference (removed signal)')\nplt.suptitle('ATAR: Soft Thresholding (default mode)')\nplt.tight_layout()\nplt.grid()\nplt.show()\n\nplt.figure(figsize=(12,5))\nplt.plot(t,Xf+np.arange(-7,7)*200)\nplt.xlim([t[0],t[-1]])\nplt.xlabel('time (sec)')\nplt.yticks(np.arange(-7,7)*200,ch_names)\nplt.grid()\nplt.title('Xf: 14 channel - EEG Signal (filtered)')\nplt.tight_layout()\nplt.grid()\nplt.show()"
      ]
    },
    {
      "cell_type": "markdown",
      "metadata": {},
      "source": [
        "## ATAR: Linear Attenuation Mode\n\n"
      ]
    },
    {
      "cell_type": "code",
      "execution_count": null,
      "metadata": {
        "collapsed": false
      },
      "outputs": [],
      "source": [
        "XR = sp.eeg.ATAR(Xf.copy(),verbose=0,OptMode='linAtten')\nprint(XR.shape)\n\nt = np.arange(Xf.shape[0])/fs\nplt.figure(figsize=(15,5))\nplt.subplot(121)\nplt.plot(t,XR+np.arange(-7,7)*200)\nplt.xlim([t[0],t[-1]])\nplt.xlabel('time (sec)')\nplt.yticks(np.arange(-7,7)*200,ch_names)\nplt.grid()\nplt.title('XR: Corrected Signal')\nplt.subplot(122)\nplt.plot(t,(Xf-XR)+np.arange(-7,7)*200)\nplt.xlim([t[0],t[-1]])\nplt.xlabel('time (sec)')\nplt.yticks(np.arange(-7,7)*200,ch_names)\nplt.grid()\nplt.title('Xf - XR: Difference (removed signal)')\nplt.suptitle('ATAR: Linear Attenuation Mode')\nplt.tight_layout()\nplt.show()"
      ]
    },
    {
      "cell_type": "markdown",
      "metadata": {},
      "source": [
        "## ATAR - Elimination Mode\n\n"
      ]
    },
    {
      "cell_type": "code",
      "execution_count": null,
      "metadata": {
        "collapsed": false
      },
      "outputs": [],
      "source": [
        "XR = sp.eeg.ATAR(Xf.copy(),verbose=0,OptMode='elim')\nprint(XR.shape)\n\nt = np.arange(Xf.shape[0])/fs\nplt.figure(figsize=(15,5))\nplt.subplot(121)\nplt.plot(t,XR+np.arange(-7,7)*200)\nplt.xlim([t[0],t[-1]])\nplt.xlabel('time (sec)')\nplt.yticks(np.arange(-7,7)*200,ch_names)\nplt.grid()\nplt.title('XR: Corrected Signal')\nplt.subplot(122)\nplt.plot(t,(Xf-XR)+np.arange(-7,7)*200)\nplt.xlim([t[0],t[-1]])\nplt.xlabel('time (sec)')\nplt.yticks(np.arange(-7,7)*200,ch_names)\nplt.grid()\nplt.title('Xf - XR: Difference (removed signal)')\nplt.suptitle('ATAR: Elimination Mode')\nplt.tight_layout()\nplt.show()"
      ]
    }
  ],
  "metadata": {
    "kernelspec": {
      "display_name": "Python 3",
      "language": "python",
      "name": "python3"
    },
    "language_info": {
      "codemirror_mode": {
        "name": "ipython",
        "version": 3
      },
      "file_extension": ".py",
      "mimetype": "text/x-python",
      "name": "python",
      "nbconvert_exporter": "python",
      "pygments_lexer": "ipython3",
      "version": "3.10.13"
    }
  },
  "nbformat": 4,
  "nbformat_minor": 0
}