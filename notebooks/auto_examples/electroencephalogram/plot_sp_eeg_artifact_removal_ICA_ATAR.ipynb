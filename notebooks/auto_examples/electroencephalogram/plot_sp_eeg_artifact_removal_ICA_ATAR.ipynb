{
  "cells": [
    {
      "cell_type": "markdown",
      "metadata": {},
      "source": [
        "\n# EEG Artifact: ATAR and ICA\n\nIn this example we compare ICA with ATAR\n"
      ]
    },
    {
      "cell_type": "code",
      "execution_count": null,
      "metadata": {
        "collapsed": false
      },
      "outputs": [],
      "source": [
        "import numpy as np\nimport matplotlib.pyplot as plt\nimport warnings\nwarnings.filterwarnings(\"ignore\")\n\nimport spkit as sp\nprint('spkit version :', sp.__version__)"
      ]
    },
    {
      "cell_type": "markdown",
      "metadata": {},
      "source": [
        "## Load and filter EEG Signal\n\n"
      ]
    },
    {
      "cell_type": "code",
      "execution_count": null,
      "metadata": {
        "collapsed": false
      },
      "outputs": [],
      "source": [
        "# Load sample EEG Data ( 16 sec, 128 smapling rate, 14 channel)\n# Filter signal (with IIR highpass 0.5Hz)\n\nX, fs, ch_names = sp.data.eeg_sample_14ch()\nXf = sp.filter_X(X.copy(),fs=128.0, band=[0.5], btype='highpass',ftype='SOS')\nprint(Xf.shape)"
      ]
    },
    {
      "cell_type": "markdown",
      "metadata": {},
      "source": [
        "## ATAR - three modes\n\n"
      ]
    },
    {
      "cell_type": "code",
      "execution_count": null,
      "metadata": {
        "collapsed": false
      },
      "outputs": [],
      "source": [
        "XR1 = sp.eeg.ATAR(Xf.copy(),verbose=1,OptMode='soft',winsize=128)\nXR2 = sp.eeg.ATAR(Xf.copy(),verbose=1,OptMode='elim',winsize=128)\nXR3 = sp.eeg.ATAR(Xf.copy(),verbose=1,OptMode='linAtten',winsize=128)"
      ]
    },
    {
      "cell_type": "markdown",
      "metadata": {},
      "source": [
        "## Artifact removal using ICA\n\n"
      ]
    },
    {
      "cell_type": "code",
      "execution_count": null,
      "metadata": {
        "collapsed": false
      },
      "outputs": [],
      "source": [
        "XR4 = sp.eeg.ICA_filtering(Xf.copy(),winsize=128, ICA_method='extended-infomax',kur_thr=2,corr_thr=0.8,\n                        AF_ch_index = [0,13] ,F_ch_index=[1,2,11,12])\n\nXR5 = sp.eeg.ICA_filtering(Xf.copy(),winsize=128, ICA_method='infomax',kur_thr=2,corr_thr=0.8,\n                        AF_ch_index = [0,13] ,F_ch_index=[1,2,11,12])\n\nXR6 = sp.eeg.ICA_filtering(Xf.copy(),winsize=128, ICA_method='picard',kur_thr=2,corr_thr=0.8,\n                        AF_ch_index = [0,13] ,F_ch_index=[1,2,11,12])"
      ]
    },
    {
      "cell_type": "markdown",
      "metadata": {},
      "source": [
        "## Plots of Corrections\n\n"
      ]
    },
    {
      "cell_type": "code",
      "execution_count": null,
      "metadata": {
        "collapsed": false
      },
      "outputs": [],
      "source": [
        "sep=150\nt = np.arange(Xf.shape[0])/fs\n\nplt.figure(figsize=(12,8))\nplt.subplot(321)\nplt.plot(t,XR1+np.arange(14)*sep)\nplt.xlim([t[0],t[-1]])\nplt.yticks([])\nplt.ylabel('ATAR: Soft-thresholding')\nplt.title('ATAR')\nplt.subplot(322)\nplt.plot(t,XR4+np.arange(14)*sep)\nplt.xlim([t[0],t[-1]])\nplt.yticks([])\nplt.ylabel('ICA: extended-infomax')\nplt.title('ICA Based')\nplt.subplot(323)\nplt.plot(t,XR2+np.arange(14)*sep)\nplt.xlim([t[0],t[-1]])\nplt.yticks([])\nplt.ylabel('ATAR: Elimination')\nplt.subplot(324)\nplt.plot(t,XR5+np.arange(14)*sep)\nplt.xlim([t[0],t[-1]])\nplt.yticks([])\nplt.ylabel('ICA: infomax')\nplt.subplot(325)\nplt.plot(t,XR3+np.arange(14)*sep)\nplt.xlim([t[0],t[-1]])\nplt.yticks([])\nplt.ylabel('ATAR: Linear Atten.')\nplt.subplot(326)\nplt.plot(t,XR6+np.arange(14)*sep)\nplt.xlim([t[0],t[-1]])\nplt.yticks([])\nplt.ylabel('ICA: picard')\nplt.subplots_adjust(wspace=0.1,hspace=0.15)\nplt.suptitle('Correction using : ATAR and ICA')\nplt.show()"
      ]
    },
    {
      "cell_type": "markdown",
      "metadata": {},
      "source": [
        "## Plots of Residuals\n\n"
      ]
    },
    {
      "cell_type": "code",
      "execution_count": null,
      "metadata": {
        "collapsed": false
      },
      "outputs": [],
      "source": [
        "sep=150\nt = np.arange(Xf.shape[0])/fs\n\nplt.figure(figsize=(12,8))\nplt.subplot(321)\nplt.plot(t,Xf-XR1+np.arange(14)*sep)\nplt.xlim([t[0],t[-1]])\nplt.yticks([])\nplt.ylabel('ATAR: Soft-thresholding')\nplt.title('ATAR')\nplt.subplot(322)\nplt.plot(t,Xf-XR4+np.arange(14)*sep)\nplt.xlim([t[0],t[-1]])\nplt.yticks([])\nplt.ylabel('ICA: extended-infomax')\nplt.title('ICA Based')\nplt.subplot(323)\nplt.plot(t,Xf-XR2+np.arange(14)*sep)\nplt.xlim([t[0],t[-1]])\nplt.yticks([])\nplt.ylabel('ATAR: Elimination')\nplt.subplot(324)\nplt.plot(t,Xf-XR5+np.arange(14)*sep)\nplt.xlim([t[0],t[-1]])\nplt.yticks([])\nplt.ylabel('ICA: infomax')\nplt.subplot(325)\nplt.plot(t,Xf-XR3+np.arange(14)*sep)\nplt.xlim([t[0],t[-1]])\nplt.yticks([])\nplt.ylabel('ATAR: Linear Atten.')\nplt.subplot(326)\nplt.plot(t,Xf-XR6+np.arange(14)*sep)\nplt.xlim([t[0],t[-1]])\nplt.yticks([])\nplt.ylabel('ICA: picard')\nplt.subplots_adjust(wspace=0.1,hspace=0.15)\nplt.suptitle('Residual: Xf-XR (removed)')\nplt.show()"
      ]
    }
  ],
  "metadata": {
    "kernelspec": {
      "display_name": "Python 3",
      "language": "python",
      "name": "python3"
    },
    "language_info": {
      "codemirror_mode": {
        "name": "ipython",
        "version": 3
      },
      "file_extension": ".py",
      "mimetype": "text/x-python",
      "name": "python",
      "nbconvert_exporter": "python",
      "pygments_lexer": "ipython3",
      "version": "3.10.13"
    }
  },
  "nbformat": 4,
  "nbformat_minor": 0
}