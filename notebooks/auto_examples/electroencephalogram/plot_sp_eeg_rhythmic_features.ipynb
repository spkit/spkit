{
  "cells": [
    {
      "cell_type": "markdown",
      "metadata": {},
      "source": [
        "\n# EEG Computing Rhythmic Features - PhyAAt - Semanticity\n\nIn this example, we are using PhyAAt Dataset to show the how to compute rhythmic features\nand compare them.\n\nIn this example, we compute average power in Delta frequency Band (0.5-4) Hz and \nAlpha frequency band (8-14) Hz. We compare the power in each eletrode for semantic \nand non-semantic stimuli.\n"
      ]
    },
    {
      "cell_type": "code",
      "execution_count": null,
      "metadata": {
        "collapsed": false
      },
      "outputs": [],
      "source": [
        "import numpy as np\nimport matplotlib.pyplot as plt\nimport spkit as sp\nprint('spkit version :', sp.__version__)"
      ]
    },
    {
      "cell_type": "markdown",
      "metadata": {},
      "source": [
        "## PhyAAt Dataset\n\n"
      ]
    },
    {
      "cell_type": "code",
      "execution_count": null,
      "metadata": {
        "collapsed": false
      },
      "outputs": [],
      "source": [
        "import phyaat as ph\n\n\n# download subject 10 data\n\ndirPath = ph.download_data(baseDir='../PhyAAt/data/', subject=10,verbose=0,overwrite=False)\nSubID = ph.ReadFilesPath(dirPath)\nSubj = ph.Subject(SubID[10])\n\n# filter and remove artifacts\nSubj.filter_EEG(band =[0.5],btype='highpass',method='SOS',order=5)\nSubj.correct(method='ATAR',verbose=1,winsize=128,\n            wv='db3',thr_method='ipr',IPR=[25,75],beta=0.1,k1=10,k2 =100,est_wmax=100,\n            OptMode ='elim',fs=128.0,use_joblib=False)\n\n# Extract EEG of listening segments\nL,_,_, _, Cols = Subj.getLWR()\nfs=128\n\n# label of semanticity\nSem = np.array([L[i][32][-3] for i in range(len(L))])\n\nidx0 = np.where(Sem==0)[0]  # semantic\nidx1 = np.where(Sem==1)[0]  # non-semantic\n\nch_names = Cols[1:15]\n\nE0 = [L[i][:,1:15].astype(float) for i in idx0] # semantic\nE1 = [L[i][:,1:15].astype(float) for i in idx1] # non-semantic"
      ]
    },
    {
      "cell_type": "markdown",
      "metadata": {},
      "source": [
        "## Extract Rhythmic Features\n\n"
      ]
    },
    {
      "cell_type": "code",
      "execution_count": null,
      "metadata": {
        "collapsed": false
      },
      "outputs": [],
      "source": [
        "XF0 = []\nfor X in E0:\n    _,Pm,_ = sp.eeg.rhythmic_powers(X=X.copy(),fs=fs,fBands=[[4],[8,14]],Sum=False,Mean=True,SD =False)\n    XF0.append(Pm)\n\nXF1 = []\nfor X in E1:\n    _,Pm,_ = sp.eeg.rhythmic_powers(X=X.copy(),fs=fs,fBands=[[4],[8,14]],Sum=False,Mean=True,SD =False)\n    XF1.append(Pm)\n\nXF0 = np.array(XF0)\nXF1 = np.array(XF1)"
      ]
    },
    {
      "cell_type": "markdown",
      "metadata": {},
      "source": [
        "## Plots to compare\n\n"
      ]
    },
    {
      "cell_type": "code",
      "execution_count": null,
      "metadata": {
        "collapsed": false
      },
      "outputs": [],
      "source": [
        "m1 = np.max([XF0[:,0,:].max(), XF1[:,0,:].max()])\nm2 = np.max([XF0[:,1,:].max(), XF1[:,1,:].max()])\n\nfig,ax = plt.subplots(2,1,figsize=(10,5))\nsp.stats.plot_groups_boxes(XF0[:,0,:],ax=ax[0],ylab='Semantic',xlabels=ch_names,\n                           strip_kw=dict(color=\"0.1\",alpha=0.7,size=3))\nsp.stats.plot_groups_boxes(XF1[:,0,:],ax=ax[1],ylab='Non-Sematic',xlabels=ch_names,\n                           strip_kw=dict(color=\"0.1\",alpha=0.7,size=3))\nax[0].set_ylim([0,m1])\nax[1].set_ylim([0,m1])\nfig.suptitle(r'$\\delta$-acitivity')\nplt.show()\n\n\nfig,ax = plt.subplots(2,1,figsize=(10,5))\nsp.stats.plot_groups_boxes(XF0[:,1,:],ax=ax[0],ylab='Semantic',xlabels=ch_names,\n                           strip_kw=dict(color=\"0.1\",alpha=0.7,size=3))\nsp.stats.plot_groups_boxes(XF1[:,1,:],ax=ax[1],ylab='Non-Sematic',xlabels=ch_names,\n                           strip_kw=dict(color=\"0.1\",alpha=0.7,size=3))\nax[0].set_ylim([0,m2])\nax[1].set_ylim([0,m2])\nfig.suptitle(r'$\\alpha$-acitivity')\nplt.show()\n\nt = np.arange(14)*3\nplt.figure(figsize=(10,4))\nplt.subplot(211)\nplt.bar(t,XF0[:,0,:].mean(0),yerr=XF0[:,0,:].std(0)/np.sqrt(77-1),label='Semantic')\nplt.bar(t+1,XF1[:,0,:].mean(0),yerr=XF1[:,0,:].std(0)/np.sqrt(77-1),label='Non-Semantic')\nplt.xticks(t+0.5,ch_names)\nplt.legend(loc=1,ncol=2)\nplt.ylabel(r'$\\delta$-acitivity')\n\nplt.subplot(212)\nplt.bar(t,XF0[:,1,:].mean(0),yerr=XF0[:,1,:].std(0)/np.sqrt(77-1),label='Semantic')\nplt.bar(t+1,XF1[:,1,:].mean(0),yerr=XF1[:,1,:].std(0)/np.sqrt(77-1),label='Non-Semantic')\nplt.xticks(t+0.5,ch_names)\nplt.ylabel(r'$\\alpha$-acitivity')\nplt.show()"
      ]
    }
  ],
  "metadata": {
    "kernelspec": {
      "display_name": "Python 3",
      "language": "python",
      "name": "python3"
    },
    "language_info": {
      "codemirror_mode": {
        "name": "ipython",
        "version": 3
      },
      "file_extension": ".py",
      "mimetype": "text/x-python",
      "name": "python",
      "nbconvert_exporter": "python",
      "pygments_lexer": "ipython3",
      "version": "3.10.13"
    }
  },
  "nbformat": 4,
  "nbformat_minor": 0
}