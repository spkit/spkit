{
  "cells": [
    {
      "cell_type": "markdown",
      "metadata": {},
      "source": [
        "\n# EEG Artifact removal using ICA\n\n\n    ICA Filtering algorithm uses following three criteria for removing artifacts for EEG.\n\n    1. Kurtosis based artifacts - mostly for motion artifacts:\n        -  parameter `kur_thr` is used as threshold on kurtosis of ICs. Any IC above `kur_thr`\n           is removed. As higher kurtosis of component, more peaky it is.\n    \n    2. Correlation Based Index (CBI) for eye movement artifacts:\n        -  CBI method [1]_ computed the comparaision of power in prefrontal electrodes with frontal eletrodes, in IC.\n           A component, that stisfy the criteria, is considered as component capturing eye-blink activity and removed.\n        -  For applying CBI method, index of prefrontal (AF - First Layer of electrodes towards frontal lobe)\n           and frontal lobe (F - second layer of electrodes) channels needs to be provided.\n\n        -  For case of 14-channels Emotiv Epoc\n              - ch_names = ['AF3','F7','F3','FC5','T7','P7','O1','O2','P8','T8','FC6','F4','F8','AF4']\n              - Pre-frontal Channels =['AF3','AF4'], \n              - Fronatal Channels = ['F7','F3','F4','F8']\n              - then suplied index of channels are as follow;\n                   -  `AF_ch_index` =[0,13] \n                   -  `F_ch_index` =[1,2,11,12] \n\n        - .. [1] https://www.ncbi.nlm.nih.gov/pmc/articles/PMC3812628/\n    \n    3. Correlation of any IC with many EEG channels:\n        -  If any IC is correlated `corr_thr` % (80%) of elecctrodes, is considered to be artifactual\n        -  Similar like CBI, except, not comparing fronatal and prefrontal but to all\n"
      ]
    },
    {
      "cell_type": "code",
      "execution_count": null,
      "metadata": {
        "collapsed": false
      },
      "outputs": [],
      "source": [
        "# Importing libraries/spkit\nimport numpy as np\nimport matplotlib.pyplot as plt\nimport warnings\nwarnings.filterwarnings(\"ignore\")\n\nimport spkit as sp\nprint('spkit version :', sp.__version__)"
      ]
    },
    {
      "cell_type": "markdown",
      "metadata": {},
      "source": [
        "## Load and filter EEG Signal\n\n"
      ]
    },
    {
      "cell_type": "code",
      "execution_count": null,
      "metadata": {
        "collapsed": false
      },
      "outputs": [],
      "source": [
        "# Load sample EEG Data ( 16 sec, 128 smapling rate, 14 channel)\n# Filter signal (with IIR highpass 0.5Hz)\n\nX, fs, ch_names = sp.data.eeg_sample_14ch()\nXf = sp.filter_X(X.copy(),fs=128.0, band=[0.5], btype='highpass',ftype='SOS')\nprint(Xf.shape)"
      ]
    },
    {
      "cell_type": "markdown",
      "metadata": {},
      "source": [
        "## Artifact removal using ICA\n\n"
      ]
    },
    {
      "cell_type": "code",
      "execution_count": null,
      "metadata": {
        "collapsed": false
      },
      "outputs": [],
      "source": [
        "XR = sp.eeg.ICA_filtering(Xf.copy(),verbose=1,kur_thr=2,corr_thr=0.8,winsize=128)\n\n\n\n\nt = np.arange(Xf.shape[0])/fs\nplt.figure(figsize=(12,8))\nplt.subplot(211)\nplt.plot(t,XR+np.arange(-7,7)*200)\nplt.xlim([t[0],t[-1]])\nplt.xlabel('time (sec)')\nplt.yticks(np.arange(-7,7)*200,ch_names)\nplt.grid()\nplt.title('XR: Corrected Signal')\nplt.subplot(212)\nplt.plot(t,(Xf-XR)+np.arange(-7,7)*200)\nplt.xlim([t[0],t[-1]])\nplt.xlabel('time (sec)')\nplt.yticks(np.arange(-7,7)*200,ch_names)\nplt.grid()\nplt.title('Xf - XR: Difference (removed signal)')\nplt.tight_layout()\nplt.show()\n\nplt.figure(figsize=(12,5))\nplt.plot(t,Xf+np.arange(-7,7)*200)\nplt.xlim([t[0],t[-1]])\nplt.xlabel('time (sec)')\nplt.yticks(np.arange(-7,7)*200,ch_names)\nplt.grid()\nplt.title('Xf: 14 channel - EEG Signal (filtered)')\nplt.tight_layout()\nplt.show()"
      ]
    },
    {
      "cell_type": "markdown",
      "metadata": {},
      "source": [
        "## On smaller segment\n\n"
      ]
    },
    {
      "cell_type": "code",
      "execution_count": null,
      "metadata": {
        "collapsed": false
      },
      "outputs": [],
      "source": [
        "Xf1 = Xf[128*10:128*14].copy()\n\nt = np.arange(Xf1.shape[0])/fs\nplt.figure(figsize=(12,5))\nplt.plot(t,Xf1+np.arange(-7,7)*200)\nplt.xlim([t[0],t[-1]])\nplt.xlabel('time (sec)')\nplt.yticks(np.arange(-7,7)*200,ch_names)\nplt.grid()\nplt.title('Xf: 14 channel - EEG Signal (filtered)')\nplt.tight_layout()\nplt.show()\n\n\nXR1 = sp.eeg.ICA_filtering(Xf1.copy(),verbose=1,kur_thr=2,corr_thr=0.8,winsize=128*2)\nprint(XR1.shape)\n\nplt.figure(figsize=(15,5))\nplt.subplot(121)\nplt.plot(t,XR1+np.arange(-7,7)*200)\nplt.xlim([t[0],t[-1]])\nplt.xlabel('time (sec)')\nplt.yticks(np.arange(-7,7)*200,ch_names)\nplt.grid()\nplt.title('XR: Corrected Signal')\n\nplt.subplot(122)\nplt.plot(t,(Xf1-XR1)+np.arange(-7,7)*200)\nplt.xlim([t[0],t[-1]])\nplt.xlabel('time (sec)')\nplt.yticks(np.arange(-7,7)*200,ch_names)\nplt.grid()\nplt.title('Xf - XR: Difference (removed signal)')\nplt.tight_layout()\nplt.show()"
      ]
    }
  ],
  "metadata": {
    "kernelspec": {
      "display_name": "Python 3",
      "language": "python",
      "name": "python3"
    },
    "language_info": {
      "codemirror_mode": {
        "name": "ipython",
        "version": 3
      },
      "file_extension": ".py",
      "mimetype": "text/x-python",
      "name": "python",
      "nbconvert_exporter": "python",
      "pygments_lexer": "ipython3",
      "version": "3.10.13"
    }
  },
  "nbformat": 4,
  "nbformat_minor": 0
}