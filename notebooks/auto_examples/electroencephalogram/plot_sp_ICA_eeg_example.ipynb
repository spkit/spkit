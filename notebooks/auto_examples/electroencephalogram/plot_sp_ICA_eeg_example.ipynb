{
  "cells": [
    {
      "cell_type": "markdown",
      "metadata": {},
      "source": [
        "\n# Independed Principle Component analysis\n\nUsing *InfoMax, Extended InfoMax, FastICA, & Picard*\n"
      ]
    },
    {
      "cell_type": "code",
      "execution_count": null,
      "metadata": {
        "collapsed": false
      },
      "outputs": [],
      "source": [
        "import numpy as np\nimport matplotlib.pyplot as plt\n#from spkit import ICA\nimport spkit as sp\nprint('spkit version :', sp.__version__)"
      ]
    },
    {
      "cell_type": "markdown",
      "metadata": {},
      "source": [
        "## Load and filter EEG Signal\n\n"
      ]
    },
    {
      "cell_type": "code",
      "execution_count": null,
      "metadata": {
        "collapsed": false
      },
      "outputs": [],
      "source": [
        "# Load sample EEG Data ( 16 sec, 128 smapling rate, 14 channel)\n# Filter signal (with IIR highpass 0.5Hz)\n\nX, fs, ch_names = sp.data.eeg_sample_14ch()\nXf = sp.filter_X(X.copy(),fs=128.0, band=[0.5], btype='highpass',ftype='SOS')\nprint(Xf.shape)"
      ]
    },
    {
      "cell_type": "markdown",
      "metadata": {},
      "source": [
        "## Applying ICA\n\n"
      ]
    },
    {
      "cell_type": "code",
      "execution_count": null,
      "metadata": {
        "collapsed": false
      },
      "outputs": [],
      "source": [
        "methods = ('fastica', 'infomax', 'extended-infomax', 'picard')\nicap = ['ICA'+str(i) for i in range(1,15)]\n\nx = Xf[128*10:128*12,:]\nt = np.arange(x.shape[0])/128.0\n\nmyICA = sp.ICA(n_components=14,method='fastica')\nmyICA.fit(x.T)\ns1 = myICA.transform(x.T)\n\nmyICA = sp.ICA(n_components=14,method='infomax')\nmyICA.fit(x.T)\ns2 = myICA.transform(x.T)\n\nmyICA = sp.ICA(n_components=14,method='picard')\nmyICA.fit(x.T)\ns3 = myICA.transform(x.T)\n\nmyICA = sp.ICA(n_components=14,method='extended-infomax')\nmyICA.fit(x.T)\ns4 = myICA.transform(x.T)"
      ]
    },
    {
      "cell_type": "markdown",
      "metadata": {},
      "source": [
        "## Plots\n\n"
      ]
    },
    {
      "cell_type": "code",
      "execution_count": null,
      "metadata": {
        "collapsed": false
      },
      "outputs": [],
      "source": [
        "plt.figure(figsize=(15,15))\nplt.subplot(321)\nplt.plot(t,x+np.arange(-7,7)*200)\nplt.xlim([t[0],t[-1]])\nplt.yticks(np.arange(-7,7)*200,ch_names)\nplt.title('X : EEG Data')\n\nplt.subplot(322)\nplt.plot(t,s1.T+np.arange(-7,7)*700)\nplt.xlim([t[0],t[-1]])\nplt.yticks(np.arange(-7,7)*700,icap)\nplt.title('FastICA')\n\nplt.subplot(323)\nplt.plot(t,s2.T+np.arange(-7,7)*700)\nplt.xlim([t[0],t[-1]])\nplt.yticks(np.arange(-7,7)*700,icap)\nplt.title('Infomax')\n\nplt.subplot(324)\nplt.plot(t,s3.T+np.arange(-7,7)*700)\nplt.xlim([t[0],t[-1]])\nplt.yticks(np.arange(-7,7)*700,icap)\nplt.title('Picard')\n\nplt.subplot(325)\nplt.plot(t,s4.T+np.arange(-7,7)*700)\nplt.xlim([t[0],t[-1]])\nplt.yticks(np.arange(-7,7)*700,icap)\nplt.title('Extended-Infomax')\nplt.tight_layout()\nplt.show()\n\n\nt = np.arange(Xf.shape[0])/128.0\nplt.figure(figsize=(12,5))\nplt.plot(t,Xf+np.arange(-7,7)*200)\nplt.xlim([t[0],t[-1]])\nplt.xlabel('time(sec)')\nplt.yticks(np.arange(-7,7)*200,ch_names)\nplt.show()"
      ]
    },
    {
      "cell_type": "markdown",
      "metadata": {},
      "source": [
        "## Decomposition and Construction matrices (Extended InfoMax)\n\n"
      ]
    },
    {
      "cell_type": "code",
      "execution_count": null,
      "metadata": {
        "collapsed": false
      },
      "outputs": [],
      "source": [
        "r\"\"\"\n.. math:: \n    \n    S = A\\cdot (X-\\mu)\n\n    X = W\\cdot S + \\mu\n\nwhere :math:`\\mu` is mean, computed before applying PCA\n\"\"\"\n\nmu = myICA.pca_mean_[:, None]\nW = myICA.get_sMatrix()\nA = myICA.get_tMatrix()\n\ns1 = np.dot(A,(x.T-mu))\nx1 = np.dot(W,s4)+mu\n\nplt.figure(figsize=(15,5))\nplt.subplot(121)\nplt.plot(x1.T+np.arange(-7,7)*400)\nplt.yticks(np.arange(-7,7)*400,ch_names)\nplt.title('Reconstructed X')\nplt.subplot(122)\nplt.plot(s1.T+np.arange(-7,7)*400)\nplt.title('Computed ICA Ex-InfoMax')\nplt.yticks(np.arange(-7,7)*400,icap)\nplt.show()\nprint('Error X',np.sum(x1-x.T))\nprint('Error S',np.sum(s1-s4))"
      ]
    }
  ],
  "metadata": {
    "kernelspec": {
      "display_name": "Python 3",
      "language": "python",
      "name": "python3"
    },
    "language_info": {
      "codemirror_mode": {
        "name": "ipython",
        "version": 3
      },
      "file_extension": ".py",
      "mimetype": "text/x-python",
      "name": "python",
      "nbconvert_exporter": "python",
      "pygments_lexer": "ipython3",
      "version": "3.10.13"
    }
  },
  "nbformat": 4,
  "nbformat_minor": 0
}