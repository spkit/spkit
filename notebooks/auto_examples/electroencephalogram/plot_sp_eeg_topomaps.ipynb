{
  "cells": [
    {
      "cell_type": "markdown",
      "metadata": {},
      "source": [
        "\n# EEG Topographic Map\n"
      ]
    },
    {
      "cell_type": "code",
      "execution_count": null,
      "metadata": {
        "collapsed": false
      },
      "outputs": [],
      "source": [
        "import numpy as np\nimport matplotlib.pyplot as plt\n#from spkit import ICA\nimport spkit as sp\nprint('spkit version :', sp.__version__)"
      ]
    },
    {
      "cell_type": "markdown",
      "metadata": {},
      "source": [
        "## Load and filter EEG Signal\n\n"
      ]
    },
    {
      "cell_type": "code",
      "execution_count": null,
      "metadata": {
        "collapsed": false
      },
      "outputs": [],
      "source": [
        "# Load sample EEG Data ( 16 sec, 128 smapling rate, 14 channel)\n# Filter signal (with IIR highpass 0.5Hz)\n\nX, fs, ch_names = sp.data.eeg_sample_14ch()\n\n\nXf = sp.filter_X(X.copy(),fs=128.0, band=[0.5], btype='highpass',ftype='SOS')\n\nXR = sp.eeg.ATAR(Xf.copy(),wv='db3', winsize=128, thr_method='ipr',beta=0.2, k1=10, k2=100,OptMode='elim')"
      ]
    },
    {
      "cell_type": "markdown",
      "metadata": {},
      "source": [
        "## Rhythmic Powers, \n\n"
      ]
    },
    {
      "cell_type": "code",
      "execution_count": null,
      "metadata": {
        "collapsed": false
      },
      "outputs": [],
      "source": [
        "# Total\n\nPm = sp.eeg.rhythmic_powers(X=XR.copy(),fs=fs,fBands=[[8,14], [15,32]],Sum=True,Mean=False,SD =True)[0]\nPm = 20*np.log10(Pm)\n\n# in windows\n\nPmt = sp.eeg.rhythmic_powers_win(X=XR.copy(),winsize=128*2,overlap=64,fs=fs,\n                                 fBands=[[8,14], [15,32]],Sum=True,Mean=False,SD =True)[0]\nPmt = 20*np.log10(Pmt)"
      ]
    },
    {
      "cell_type": "markdown",
      "metadata": {},
      "source": [
        "## Topomap of Total power\n\n"
      ]
    },
    {
      "cell_type": "code",
      "execution_count": null,
      "metadata": {
        "collapsed": false
      },
      "outputs": [],
      "source": [
        "fig,ax = plt.subplots(1,2,figsize=(10,4))\nZ1,im1 = sp.eeg.topomap(data=Pm[0],ch_names=ch_names,shownames=False,axes=ax[0],return_im=True)\nZ2,im2 =sp.eeg.topomap(data=Pm[1],ch_names=ch_names,shownames=False,axes=ax[1],return_im=True)\n\nax[0].set_title(r'$\\alpha$ : [8-14] Hz')\nax[1].set_title(r'$\\beta$ : [15-32] Hz')\nplt.colorbar(im1, ax=ax[0],label='dB')\nplt.colorbar(im2, ax=ax[1],label='dB')\nplt.suptitle('Spkit-style')\nplt.show()\n\nfig,ax = plt.subplots(1,2,figsize=(10,4))\nZ1,im1 = sp.eeg.topomap(data=Pm[0],ch_names=ch_names,shownames=False,axes=ax[0],return_im=True,style='eeglab-mne')\nZ2,im2 =sp.eeg.topomap(data=Pm[1],ch_names=ch_names,shownames=False,axes=ax[1],return_im=True,style='eeglab-mne')\n\nax[0].set_title(r'$\\alpha$ : [8-14] Hz')\nax[1].set_title(r'$\\beta$ : [15-32] Hz')\nplt.colorbar(im1, ax=ax[0],label='dB')\nplt.colorbar(im2, ax=ax[1],label='dB')\nplt.suptitle('eeglab/mne-style')\nplt.show()"
      ]
    },
    {
      "cell_type": "markdown",
      "metadata": {},
      "source": [
        "## Topomap for specific time-windows\n\n"
      ]
    },
    {
      "cell_type": "code",
      "execution_count": null,
      "metadata": {
        "collapsed": false
      },
      "outputs": [],
      "source": [
        "t1,t2 = 7,18\n\nplt.figure(figsize=(10,4))\nplt.subplot(211)\nplt.plot(Pmt[:,0,:])\nplt.xlim([0,Pmt.shape[0]-1])\nplt.vlines([t1,t2],ymin=Pmt[:,0,:].min()-5,ymax=Pmt[:,0,:].max(),color='k')\nplt.grid()\nplt.ylabel(r'$\\alpha$ (dB)')\nplt.subplot(212)\nplt.plot(Pmt[:,1,:])\nplt.xlim([0,Pmt.shape[0]-1])\nplt.vlines([t1,t2],ymin=Pmt[:,0,:].min()-5,ymax=Pmt[:,0,:].max(),color='k')\nplt.grid()\nplt.ylabel(r'$\\beta$ (dB)')\nplt.xlabel('window #')\nplt.text(t1,0,'t1',fontsize=15,ha='center')\nplt.text(t2,0,'t2',fontsize=15,ha='center')\nplt.subplots_adjust(hspace=0)\nplt.show()\n\nfig,ax = plt.subplots(1,2,figsize=(10,4))\nZ1,im1 = sp.eeg.topomap(data=Pmt[t1,0,:],ch_names=ch_names,vmin=Pmt[t1].min(),vmax=Pmt[t1].max(),\n                        shownames=False,axes=ax[0],return_im=True)\nZ2,im2 =sp.eeg.topomap(data=Pmt[t1,1,:],ch_names=ch_names,vmin=Pmt[t1].min(),vmax=Pmt[t1].max(),\n                       shownames=False,axes=ax[1],return_im=True)\n\nax[0].set_title(r'$\\alpha$ : [8-14] Hz')\nax[1].set_title(r'$\\beta$ : [15-32] Hz')\n#plt.colorbar(im1, ax=ax[0],label='dB')\nplt.colorbar(im2, ax=ax[1],label='dB')\nplt.suptitle('t1')\nplt.show()\n\nfig,ax = plt.subplots(1,2,figsize=(10,4))\nZ1,im1 = sp.eeg.topomap(data=Pmt[t2,0,:],ch_names=ch_names,vmin=Pmt[t2].min(),vmax=Pmt[t2].max(),\n                        shownames=False,axes=ax[0],return_im=True)\nZ2,im2 =sp.eeg.topomap(data=Pmt[t2,1,:],ch_names=ch_names,vmin=Pmt[t2].min(),vmax=Pmt[t2].max(),\n                       shownames=False,axes=ax[1],return_im=True)\n\nax[0].set_title(r'$\\alpha$ : [8-14] Hz')\nax[1].set_title(r'$\\beta$ : [15-32] Hz')\n#plt.colorbar(im1, ax=ax[0],label='dB')\nplt.colorbar(im2, ax=ax[1],label='dB')\nplt.suptitle('t2')\nplt.show()"
      ]
    }
  ],
  "metadata": {
    "kernelspec": {
      "display_name": "Python 3",
      "language": "python",
      "name": "python3"
    },
    "language_info": {
      "codemirror_mode": {
        "name": "ipython",
        "version": 3
      },
      "file_extension": ".py",
      "mimetype": "text/x-python",
      "name": "python",
      "nbconvert_exporter": "python",
      "pygments_lexer": "ipython3",
      "version": "3.10.13"
    }
  },
  "nbformat": 4,
  "nbformat_minor": 0
}