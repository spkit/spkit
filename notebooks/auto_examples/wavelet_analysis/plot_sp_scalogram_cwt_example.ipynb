{
  "cells": [
    {
      "cell_type": "markdown",
      "metadata": {},
      "source": [
        "\n# Scalogram CWT\n"
      ]
    },
    {
      "cell_type": "code",
      "execution_count": null,
      "metadata": {
        "collapsed": false
      },
      "outputs": [],
      "source": [
        "# Import\n\nimport numpy as np\nimport matplotlib.pyplot as plt\n\nimport spkit\nprint('spkit-version ', spkit.__version__)\nimport spkit as sp\nfrom spkit.cwt import ScalogramCWT\nfrom spkit.cwt import compare_cwt_example\n\n# Data\n\nx,fs = sp.load_data.eegSample_1ch()\nt = np.arange(len(x))/fs\n\nprint('shape ',x.shape, t.shape)"
      ]
    },
    {
      "cell_type": "markdown",
      "metadata": {},
      "source": [
        "## Comparison Example\n\n"
      ]
    },
    {
      "cell_type": "code",
      "execution_count": null,
      "metadata": {
        "collapsed": false
      },
      "outputs": [],
      "source": [
        "# Predefined example script\n\ncompare_cwt_example(x,t,fs=fs)\n\n\n# Signal\n\nplt.figure(figsize=(15,3))\nplt.plot(t,x)\nplt.xlabel('time')\nplt.ylabel('amplitude')\nplt.show()"
      ]
    },
    {
      "cell_type": "markdown",
      "metadata": {},
      "source": [
        "## Gauss wavelet\n\n"
      ]
    },
    {
      "cell_type": "code",
      "execution_count": null,
      "metadata": {
        "collapsed": false
      },
      "outputs": [],
      "source": [
        "# Default parameter setting\n\nXW,S = ScalogramCWT(x,t,fs=fs,wType='Gauss',PlotPSD=True)\nprint(XW.shape, S.shape)\n\n\nplt.figure(figsize=(15,3))\nplt.imshow(np.abs(XW),aspect='auto',origin='lower',cmap='jet',interpolation='sinc')\nplt.show()\n\n\nplt.figure(figsize=(15,3))\nplt.imshow(np.log10(np.abs(XW)+0.2),aspect='auto',origin='lower',cmap='jet',interpolation='sinc')\nplt.show()\n\n\n# ### with custom setting\n\nf0 = np.linspace(0.1,10,100)\nQ  = np.linspace(0.1,5,100)\nXW,S = ScalogramCWT(x,t,fs=fs,wType='Gauss',PlotPSD=True,f0=f0,Q=Q)\n\n# Show wavelets in time and frequency domain\n\nf0 = np.linspace(0.1,10,100)\nQ  = np.linspace(0.1,5,100)\nXW,S = ScalogramCWT(x,t,fs=fs,wType='Gauss',PlotPSD=True,PlotW=True,f0=f0,Q=Q)"
      ]
    },
    {
      "cell_type": "markdown",
      "metadata": {},
      "source": [
        "## Morlet wavelet\n\n"
      ]
    },
    {
      "cell_type": "code",
      "execution_count": null,
      "metadata": {
        "collapsed": false
      },
      "outputs": [],
      "source": [
        "print('Morlet wavelet')\nXW,S = ScalogramCWT(x,t,fs=fs,wType='Morlet',PlotPSD=True,)"
      ]
    },
    {
      "cell_type": "markdown",
      "metadata": {},
      "source": [
        "## Gabor wavelet\n\n"
      ]
    },
    {
      "cell_type": "code",
      "execution_count": null,
      "metadata": {
        "collapsed": false
      },
      "outputs": [],
      "source": [
        "print('Gabor wavelet')\nXW,S = ScalogramCWT(x,t,fs=fs,wType='Gabor',PlotPSD=True,)"
      ]
    },
    {
      "cell_type": "markdown",
      "metadata": {},
      "source": [
        "## Poisson wavelet\n\n"
      ]
    },
    {
      "cell_type": "code",
      "execution_count": null,
      "metadata": {
        "collapsed": false
      },
      "outputs": [],
      "source": [
        "print('Poisson wavelet')\nXW,S = ScalogramCWT(x,t,fs=fs,wType='Poisson',PlotPSD=True,)"
      ]
    },
    {
      "cell_type": "markdown",
      "metadata": {},
      "source": [
        "## Complex Maxican wavelet\n\n"
      ]
    },
    {
      "cell_type": "code",
      "execution_count": null,
      "metadata": {
        "collapsed": false
      },
      "outputs": [],
      "source": [
        "print('Complex Maxican wavelet')\nXW,S = ScalogramCWT(x,t,fs=fs,wType='cMaxican',PlotPSD=True,)"
      ]
    },
    {
      "cell_type": "markdown",
      "metadata": {},
      "source": [
        "## Complex Shannon wavelet\n\n"
      ]
    },
    {
      "cell_type": "code",
      "execution_count": null,
      "metadata": {
        "collapsed": false
      },
      "outputs": [],
      "source": [
        "print('Complex Shannon wavelet')\nXW,S = ScalogramCWT(x,t,fs=fs,wType='cShannon',PlotPSD=True,)"
      ]
    }
  ],
  "metadata": {
    "kernelspec": {
      "display_name": "Python 3",
      "language": "python",
      "name": "python3"
    },
    "language_info": {
      "codemirror_mode": {
        "name": "ipython",
        "version": 3
      },
      "file_extension": ".py",
      "mimetype": "text/x-python",
      "name": "python",
      "nbconvert_exporter": "python",
      "pygments_lexer": "ipython3",
      "version": "3.10.13"
    }
  },
  "nbformat": 4,
  "nbformat_minor": 0
}