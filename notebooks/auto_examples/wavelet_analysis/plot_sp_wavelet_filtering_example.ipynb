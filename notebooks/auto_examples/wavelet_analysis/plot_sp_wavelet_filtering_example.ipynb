{
  "cells": [
    {
      "cell_type": "markdown",
      "metadata": {},
      "source": [
        "\n# Wavelet Filtering\n\n**Background**\n\nOther than classical spectral filtering, Wavelet filtering is one of common techniques used in signal processing. \nIt allows to filter out short-time duration patterns captured by used wavelet. The patterns to be filtered out depends \non the wavelet family (e.g. *db3*) used and number of level of decomposition.\nAlgorithmically, it is very straightforward. Decompose a signal $x(n)$, into wavelet coefficients $X(k):math:$, \nwhere each coefficient represents the strength of wavelet pattern at particular time. With some threshold, \nremove the coefficients by zeroing out and reconstruct the signal back.\n\nThe machanism to choose a threshold on the strength of wavelet coefficient depends on the application and objective. \nTo remove the noise and compress the signal, a widely used approach is to filter out all the wavelet coefficients with \nsmaller strength.\n\nLiterature [1] suggest the **Optimal threshold** on the wavelet coeffiecient is\n\n\\begin{align}\\theta = \\tilde{\\sigma} \\sqrt{2log(N)}\\end{align}\n\n\nwhere $\\tilde{\\sigma}$ is estimation of noise variance and $N$ length of signal\n\n.. :math::\n    \n    \\tilde{\\sigma} = median(|X(k)|)/0.6745\n\nand $X(k)$ are wavelet coeffients of $x(n)$\n\nThere are other methods to choose threshold too. One can choose a\n\n    * $\\theta =1.5\\times SD(X(k))$ or \n    * $\\theta =IQR(X(k))$ \n\nas to select the outliers, by standard deviation and interquartile range, respectively.\n\nAccording to the theory, the **optimal threshold** should be applied by zeroing out the coefficients \nbelow with magnitude lower than threshold $|X(k)|<\\theta$, and for later two methods of thresholds,\nstandard deviation and interquartile range, the coefficients outside of the threshold should be zeroing out, \nsince they reprepresent the outliers. However, some of the (weired) articles use these thresholds in other-way round.\n\nA simple block-diagram shown below is the procedure of wavelet filtering.\n\n\n.. figure:: https://raw.githubusercontent.com/spkit/images/master/extra/wavelet_filtering_block_dia_1.png\n   :align: center\n   :scale: 80%\n\n\n**References:**\n    * [1] D.L. Donoho, J.M. Johnstone, **Ideal spatial adaptation by wavelet shrinkage** Biometrika, 81 (1994), pp. 425-455\n\n\n**API**\n\n    * **spkit.wavelet_filtering(...)**\n    * **spkit.wavelet_filtering_win(...)**\n\nIn ***spkit***, we have implemented all three methods for threshold computing, can be chosen by *threshold = 'optimal', \n'sd' or 'iqr'* or can be passed as a float value for a fixed threshold, e.g. *threshold = 0.5*. It also support to choose,\nif you want to zero out coefficient below the threshold or above by setting *filter_out_below* True or False. \nHowever, default setting is *threshold='optimal'* and *filter_out_below=True*.\n\nThere are a few more options to tune threshold and mode of filtering. \nFor more details see doc section or run :func:`spkit.wavelet_filtering`\n"
      ]
    },
    {
      "cell_type": "code",
      "execution_count": null,
      "metadata": {
        "collapsed": false
      },
      "outputs": [],
      "source": [
        "import numpy as np\nimport matplotlib.pyplot as plt\nimport spkit as sp\nsp.__version__\n\n# ## Example with EEG sample signal\n\nx,fs = sp.data.eeg_sample_1ch(ch=0)\nx = x[fs*2:fs*8]\nt = np.arange(len(x))/fs"
      ]
    },
    {
      "cell_type": "markdown",
      "metadata": {},
      "source": [
        "## Wavelet filtering with optimal threshold ans db3\n\n"
      ]
    },
    {
      "cell_type": "code",
      "execution_count": null,
      "metadata": {
        "collapsed": false
      },
      "outputs": [],
      "source": [
        "xf = sp.wavelet_filtering(x.copy(),wv='db3',threshold='optimal',verbose=1,WPD=False,show=True,fs=fs)"
      ]
    },
    {
      "cell_type": "markdown",
      "metadata": {},
      "source": [
        "## With SD threshold\n\n"
      ]
    },
    {
      "cell_type": "code",
      "execution_count": null,
      "metadata": {
        "collapsed": false
      },
      "outputs": [],
      "source": [
        "xf = sp.wavelet_filtering(x.copy(),wv='db3',threshold='sd',verbose=1,WPD=False,show=True,fs=fs)"
      ]
    },
    {
      "cell_type": "markdown",
      "metadata": {},
      "source": [
        "## With IQR\n\n"
      ]
    },
    {
      "cell_type": "code",
      "execution_count": null,
      "metadata": {
        "collapsed": false
      },
      "outputs": [],
      "source": [
        "xf = sp.wavelet_filtering(x.copy(),wv='db3',threshold='iqr',verbose=1,WPD=False,show=True,fs=fs)"
      ]
    },
    {
      "cell_type": "markdown",
      "metadata": {},
      "source": [
        "## Limit the number of levels for decomposition to 2\n\n"
      ]
    },
    {
      "cell_type": "code",
      "execution_count": null,
      "metadata": {
        "collapsed": false
      },
      "outputs": [],
      "source": [
        "xf = sp.wavelet_filtering(x.copy(),wv='db3',threshold='optimal',wpd_maxlevel=2,verbose=1,WPD=False,show=True,fs=fs)"
      ]
    },
    {
      "cell_type": "markdown",
      "metadata": {},
      "source": [
        "## With *db12*\n\n"
      ]
    },
    {
      "cell_type": "code",
      "execution_count": null,
      "metadata": {
        "collapsed": false
      },
      "outputs": [],
      "source": [
        "xf = sp.wavelet_filtering(x.copy(),wv='db12',threshold='optimal',verbose=1,WPD=False,show=True,fs=fs)"
      ]
    },
    {
      "cell_type": "markdown",
      "metadata": {},
      "source": [
        "## With Symlet - *sym4*\n\n"
      ]
    },
    {
      "cell_type": "code",
      "execution_count": null,
      "metadata": {
        "collapsed": false
      },
      "outputs": [],
      "source": [
        "xf = sp.wavelet_filtering(x.copy(),wv='sym4',threshold='optimal',verbose=1,WPD=False,show=True,fs=fs)"
      ]
    },
    {
      "cell_type": "markdown",
      "metadata": {},
      "source": [
        "## With Coiflet - *coif4*\n\n"
      ]
    },
    {
      "cell_type": "code",
      "execution_count": null,
      "metadata": {
        "collapsed": false
      },
      "outputs": [],
      "source": [
        "xf = sp.wavelet_filtering(x.copy(),wv='coif4',threshold='optimal',verbose=1,WPD=False,show=True,fs=fs)"
      ]
    }
  ],
  "metadata": {
    "kernelspec": {
      "display_name": "Python 3",
      "language": "python",
      "name": "python3"
    },
    "language_info": {
      "codemirror_mode": {
        "name": "ipython",
        "version": 3
      },
      "file_extension": ".py",
      "mimetype": "text/x-python",
      "name": "python",
      "nbconvert_exporter": "python",
      "pygments_lexer": "ipython3",
      "version": "3.10.13"
    }
  },
  "nbformat": 4,
  "nbformat_minor": 0
}