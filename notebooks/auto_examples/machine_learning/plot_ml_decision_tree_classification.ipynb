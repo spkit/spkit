{
  "cells": [
    {
      "cell_type": "markdown",
      "metadata": {},
      "source": [
        "\n# Classification Trees: Depth & Decision boundaries\n\nClassification Trees: Depth & Decision boundaries\n\nIn this notebook, we show, how the depth of a decision tree affect the decision boundries for classification. \nWith toy examples of simulated 2D datasets, plotting the decsison boundries allows us to understand the overfitting \nof tree. You will be able to observe that by lowering the depth of tree, you can minimize the overfitting. \nHigher depth of a tree create a much complex decision boundry to classify each example in training correctly, \nas a consequences, it fails to generalize for test data. The take away message of this notebook is be careful \nto choose hyperparameter ***max_depth*** for a tree before training.\n"
      ]
    },
    {
      "cell_type": "code",
      "execution_count": null,
      "metadata": {
        "collapsed": false
      },
      "outputs": [],
      "source": [
        "import numpy as np\nimport matplotlib.pyplot as plt\nimport spkit as sp\nfrom spkit.ml import ClassificationTree\nprint('spkit version :', sp.__version__)\n\n# just to ensure the reproducible results\nnp.random.seed(100) \n\ndef get2DGrid(X,density=100):\n    mn1,mn2 = np.min(X,axis=0)\n    mx1,mx2 = np.max(X,axis=0)\n    x1 = np.linspace(mn1,mx1,density)\n    x2 = np.linspace(mn2,mx2,density)\n    x1,x2 = np.meshgrid(x1,x2)\n    Xt = np.c_[x1.flatten(),x2.flatten()]\n    return Xt\n\ndef plotXy(X,y,ax=None,m='o',alpha=0.2):\n    clr = ['b','r','g','y','m','k']\n    cls = np.unique(y)\n    for i in range(len(cls)):\n        c = cls[i]\n        ax.plot(X[y==c,0],X[y==c,1],m+clr[i],alpha=alpha)\n\n\ndType=['MOONS', 'GAUSSIANS', 'LINEAR', 'SINUSOIDAL', 'SPIRAL']\n\nplt.figure(figsize=(15,10))\n\nfor k in range(len(dType)):\n    dtype = dType[k]\n    X,y = sp.data.create_dataset(N=200, Dtype=dtype, noise=0.01)\n    Xt = get2DGrid(X,density=80)\n    mns = np.min(Xt,axis=0)\n    mxs = np.max(Xt,axis=0)\n\n    \n    depths = [1,2,3,5,7]\n    N = len(depths)+1\n\n    \n    plt.subplot(5,N,k*N+1)\n    plotXy(X,y,ax=plt,m='.',alpha=0.9)\n    plt.xticks([])\n    plt.yticks([])\n    plt.ylabel(dtype)\n\n    for i in range(len(depths)):\n        d = depths[i]\n        model = ClassificationTree(max_depth=d)\n        model.fit(X,y,verbose=0,feature_names=['x1','x2'])\n        yt = model.predict(Xt)\n        yp = model.predict(X)\n        acc = np.around(np.mean(y==yp),2)\n        plt.subplot(5,N,k*N+i+2)\n        plotXy(Xt,yt,ax=plt,m='o',alpha=0.02)\n        plotXy(X,y,ax=plt,m='.',alpha=0.99)\n        plt.xlim([mns[0],mxs[0]])\n        plt.ylim([mns[1],mxs[1]])\n        plt.axis('off')\n        if k==0: plt.title('depth ='+str(d))\n\nplt.subplots_adjust(left=None, bottom=None, right=None, top=None, wspace=0.05, hspace=0.05)\nplt.show()\n\n\n# Toy Examples with tree with different depth\n\n\ndType=['MOONS', 'GAUSSIANS', 'LINEAR', 'SINUSOIDAL', 'SPIRAL']\nfor k in range(len(dType)):\n    dtype = dType[k]\n    X,y = sp.data.create_dataset(N=200, Dtype=dtype, noise=0.01)\n    Xt    = get2DGrid(X,density=80)\n    mns = np.min(Xt,axis=0)\n    mxs = np.max(Xt,axis=0)\n\n    depths = [1,2,3,5,7]\n    N = len(depths)+1\n\n    plt.figure(figsize=(15,6))\n    plt.subplot(2,N,1)\n    plotXy(X,y,ax=plt,m='.',alpha=0.9)\n    #plt.axis('off')\n    plt.xticks([])\n    plt.yticks([])\n    plt.xlabel('x1')\n    plt.ylabel('x2')\n    plt.title(dtype)\n\n    for i in range(len(depths)):\n        d = depths[i]\n        model = ClassificationTree(max_depth=d)\n        model.fit(X,y,verbose=0,feature_names=['x1','x2'])\n        yt = model.predict(Xt)\n        yp = model.predict(X)\n        acc = np.around(np.mean(y==yp),2)\n        plt.subplot(2,N,i+2)\n        plotXy(Xt,yt,ax=plt,m='o',alpha=0.03)\n        plotXy(X,y,ax=plt,m='.',alpha=0.99)\n        plt.xlim([mns[0],mxs[0]])\n        plt.ylim([mns[1],mxs[1]])\n        plt.axis('off')\n        plt.title('acc:'+str(acc)+'\\ndepth ='+str(d))\n\n        plt.subplot(2,N,N+i+2)\n        if d>5:\n            model.plotTree(show=False,showtitle=False,legend=False,showNodevalues=False, showThreshold=False)\n        else:\n            model.plotTree(show=False,showtitle=False,legend=False)\n    plt.subplots_adjust(left=None, bottom=None, right=None, top=None, wspace=0.1, hspace=None)\n    plt.show()"
      ]
    }
  ],
  "metadata": {
    "kernelspec": {
      "display_name": "Python 3",
      "language": "python",
      "name": "python3"
    },
    "language_info": {
      "codemirror_mode": {
        "name": "ipython",
        "version": 3
      },
      "file_extension": ".py",
      "mimetype": "text/x-python",
      "name": "python",
      "nbconvert_exporter": "python",
      "pygments_lexer": "ipython3",
      "version": "3.10.13"
    }
  },
  "nbformat": 4,
  "nbformat_minor": 0
}