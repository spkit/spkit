{
  "cells": [
    {
      "cell_type": "markdown",
      "metadata": {},
      "source": [
        "\n# Logistic Regression -  Visualisation\n\n\nAn example of a Logistic Regression with visualasation\n"
      ]
    },
    {
      "cell_type": "code",
      "execution_count": null,
      "metadata": {
        "collapsed": false
      },
      "outputs": [],
      "source": [
        "# ## libraries\n\nimport numpy as np\nimport matplotlib.pyplot as plt\nimport spkit\nprint('spkit version :', spkit.__version__)\n\nfrom spkit.ml import LogisticRegression"
      ]
    },
    {
      "cell_type": "markdown",
      "metadata": {},
      "source": [
        "Binary class\n\n"
      ]
    },
    {
      "cell_type": "code",
      "execution_count": null,
      "metadata": {
        "collapsed": false
      },
      "outputs": [],
      "source": [
        "N = 300\nnp.random.seed(1)\nX = np.random.randn(N,2)\ny = np.random.randint(0,2,N)\ny.sort()\n\n# just creating classes a little far\nX[y==0,:]+=2 \nprint(X.shape, y.shape)\n\n\nmodel = LogisticRegression(alpha=0.1)\nmodel.fit(X,y,max_itr=1000)\nyp  = model.predict(X)\nypr = model.predict_proba(X)\nprint('Accuracy : ',np.mean(yp==y))\nprint('Loss     : ',model.Loss(y,ypr))\n\nplt.figure(figsize=(12,7))\nax1 = plt.subplot(221) \nmodel.plot_Lcurve(ax=ax1)\nax2 = plt.subplot(222)\nmodel.plot_boundries(X,y,ax=ax2)\n\nax3 = plt.subplot(223)\nmodel.plot_weights(ax=ax3)\nax4 = plt.subplot(224)\nmodel.plot_weights2(ax=ax4,grid=False)\nplt.tight_layout()\nplt.show()\n\n# plt.plot(X[y==0,0],X[y==0,1],'.b')\n# plt.plot(X[y==1,0],X[y==1,1],'.r')\n# plt.tight_layout()\n# plt.show()"
      ]
    },
    {
      "cell_type": "markdown",
      "metadata": {},
      "source": [
        "Multiclass with polynomial feature\n\n"
      ]
    },
    {
      "cell_type": "code",
      "execution_count": null,
      "metadata": {
        "collapsed": false
      },
      "outputs": [],
      "source": [
        "N =300\nX = np.random.randn(N,2)\ny = np.random.randint(0,3,N)\ny.sort()\n\nX[y==0,1]+=3\nX[y==2,0]-=3\nprint(X.shape, y.shape)\n\nplt.plot(X[y==0,0],X[y==0,1],'.b')\nplt.plot(X[y==1,0],X[y==1,1],'.r')\nplt.plot(X[y==2,0],X[y==2,1],'.g')\nplt.show()\n\n\nmodel = LogisticRegression(alpha=0.1,polyfit=True,degree=3,lambd=0,FeatureNormalize=True)\nmodel.fit(X,y,max_itr=1000)\nyp  = model.predict(X)\nypr = model.predict_proba(X)\nprint(model)\nprint('')\nprint('Accuracy : ',np.mean(yp==y))\nprint('Loss     : ',model.Loss(model.oneHot(y),ypr))\n\n\nplt.figure(figsize=(15,7))\nax1 = plt.subplot(221) \nmodel.plot_Lcurve(ax=ax1)\nax2 = plt.subplot(222)\nmodel.plot_boundries(X,y,ax=ax2)\n\nax3 = plt.subplot(223)\nmodel.plot_weights(ax=ax3)\nax4 = plt.subplot(224)\nmodel.plot_weights2(ax=ax4,grid=True)\nplt.tight_layout()\nplt.show()"
      ]
    },
    {
      "cell_type": "markdown",
      "metadata": {},
      "source": [
        "## Iris Dataset\n\n"
      ]
    },
    {
      "cell_type": "code",
      "execution_count": null,
      "metadata": {
        "collapsed": false
      },
      "outputs": [],
      "source": [
        "from sklearn import datasets\nfrom sklearn.model_selection import train_test_split\n\n\ndata = datasets.load_iris()\nX = data.data\ny = data.target\n\nXt,Xs, yt, ys = train_test_split(X,y,test_size=0.3)\n\nprint('Shapes ',X.shape,y.shape, Xt.shape, yt.shape, Xs.shape, ys.shape)\n\n\n# # With polynomial features\n\nmodel = LogisticRegression(alpha=0.1,polyfit=False,degree=3,lambd=0,FeatureNormalize=False)\nmodel.fit(Xt,yt,max_itr=1000)\n\nytp  = model.predict(Xt)\nytpr = model.predict_proba(Xt)\n\nysp  = model.predict(Xs)\nyspr = model.predict_proba(Xs)\n\nprint(model)\n\nprint('')\nprint('Training Accuracy : ',np.mean(ytp==yt))\nprint('Testing  Accuracy : ',np.mean(ysp==ys))\nprint('Training Loss     : ',model.Loss(model.oneHot(yt),ytpr))\nprint('Testing  Loss     : ',model.Loss(model.oneHot(ys),yspr))\n\n\n\nplt.figure(figsize=(15,7))\nax1 = plt.subplot(221) \nmodel.plot_Lcurve(ax=ax1)\nax3 = plt.subplot(223)\nmodel.plot_weights(ax=ax3)\nax4 = plt.subplot(224)\nmodel.plot_weights2(ax=ax4,grid=True)\nplt.tight_layout()\nplt.show()"
      ]
    }
  ],
  "metadata": {
    "kernelspec": {
      "display_name": "Python 3",
      "language": "python",
      "name": "python3"
    },
    "language_info": {
      "codemirror_mode": {
        "name": "ipython",
        "version": 3
      },
      "file_extension": ".py",
      "mimetype": "text/x-python",
      "name": "python",
      "nbconvert_exporter": "python",
      "pygments_lexer": "ipython3",
      "version": "3.10.13"
    }
  },
  "nbformat": 4,
  "nbformat_minor": 0
}