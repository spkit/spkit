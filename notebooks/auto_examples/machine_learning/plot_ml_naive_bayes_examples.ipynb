{
  "cells": [
    {
      "cell_type": "markdown",
      "metadata": {},
      "source": [
        "\n# Naive Bayes classifier -  Visualisation\n\nNaive Bayes classifier\n\nComputing the posterior probability of *x* being from class **c** using **Bayes** rule.\n\n\\begin{align}P(y_c|x)= \\frac{P(x|y_c)P(y_c)}{P(x)}\\end{align}\n\n\nThis script demonstrates Naive Bayes classifier using three examples\n\n* Example 1: Iris dataset\n* Example 2: Breast Cancer\n* Example 3: Digit Classification\n"
      ]
    },
    {
      "cell_type": "code",
      "execution_count": null,
      "metadata": {
        "collapsed": false
      },
      "outputs": [],
      "source": [
        "# libraries\n\nimport numpy as np\nimport matplotlib.pyplot as plt\nfrom sklearn import datasets\nfrom sklearn.model_selection import train_test_split\n\nimport spkit\nprint('spkit version :', spkit.__version__)\n\nfrom spkit.ml import NaiveBayes"
      ]
    },
    {
      "cell_type": "markdown",
      "metadata": {},
      "source": [
        "## Example 1 : Iris dataset\n\n"
      ]
    },
    {
      "cell_type": "code",
      "execution_count": null,
      "metadata": {
        "collapsed": false
      },
      "outputs": [],
      "source": [
        "data = datasets.load_iris()\nX = data.data\ny = data.target\n\nXt,Xs,yt,ys = train_test_split(X,y,test_size=0.3)\n\nprint('Shapes: ',Xt.shape,yt.shape,Xs.shape,ys.shape)\n\n# Fitting model (Estimating the parameters)\n\nmodel = NaiveBayes()\nmodel.fit(Xt,yt)\n\n\n# ## Prediction and Accuracy\nytp = model.predict(Xt)\nysp = model.predict(Xs)\n\nprint('Training Accuracy : ',np.mean(ytp==yt))\nprint('Testing  Accuracy : ',np.mean(ysp==ys))\n\n\n# Predicting probabilities\n\nytpr = model.predict_prob(Xt)\nyspr = model.predict_prob(Xs)\n\n\nprint(ytpr[0])\nprint(model.predict(Xs[0]), model.predict_prob(Xs[0]))\n\n# Parameters :: $\\mu$, $\\sigma$\n\nprint('model parameters')\nprint(model.parameters)\n\n\n# Visualizing the distribution\n\n# Setting the names of classes and features (Optional)\n\n\nmodel.set_class_labels(data['target_names'])\nmodel.set_feature_names(data['feature_names'])\n\nfig = plt.figure(figsize=(12,10))\nmodel.VizPx(show=False)\nplt.suptitle('Example 1: Iris dataset')\nplt.tight_layout()\nplt.show()"
      ]
    },
    {
      "cell_type": "markdown",
      "metadata": {},
      "source": [
        "## Example 2: Breast Cancer\n\n"
      ]
    },
    {
      "cell_type": "code",
      "execution_count": null,
      "metadata": {
        "collapsed": false
      },
      "outputs": [],
      "source": [
        "data = datasets.load_breast_cancer()\nX = data.data\ny = data.target\n\nXt,Xs,yt,ys = train_test_split(X,y,test_size=0.3)\n\nprint(Xt.shape,yt.shape,Xs.shape,ys.shape)\n\n\n# ## Fitting model (estimating the parameters)\n\nmodel = NaiveBayes()\nmodel.fit(Xt,yt)\n\n\n# ## Accuracy\n\n\nytp = model.predict(Xt)\nysp = model.predict(Xs)\n\nprint('Training Accuracy : ',np.mean(ytp==yt))\nprint('Testing  Accuracy : ',np.mean(ysp==ys))\n\n\n# Parameters :: $\\mu$, $\\sigma$\n\nprint('model parameters')\nprint(model.parameters[0])\n\nmodel.set_class_labels(data['target_names'])\n\n\n# Visualizing first 16 features\n\nfig = plt.figure(figsize=(12,10))\nmodel.VizPx(nfeatures=range(16),show=False)\nplt.suptitle('Example 2: Breast Cancer')\nplt.tight_layout()\nplt.show()\n\n# Visualizing next 14 features\n\nfig = plt.figure(figsize=(12,10))\nmodel.VizPx(nfeatures=range(16,30),show=False)\nplt.suptitle('Example 2: Breast Cancer')\nplt.tight_layout()\nplt.show()"
      ]
    },
    {
      "cell_type": "markdown",
      "metadata": {},
      "source": [
        "## Example 3:: Digit Classification\n\n"
      ]
    },
    {
      "cell_type": "code",
      "execution_count": null,
      "metadata": {
        "collapsed": false
      },
      "outputs": [],
      "source": [
        "data = datasets.load_digits()\nX = data.data\ny = data.target\n\n# Avoiding features with zero variance (contant value)\n# X = X[:,X.var(0)>0]\n\nXt,Xs,yt,ys = train_test_split(X,y,test_size=0.3)\n\nprint(Xt.shape,yt.shape,Xs.shape,ys.shape)\n\n\n# Fitting model (estimating the parameters)\n\nmodel = NaiveBayes()\nmodel.fit(Xt,yt)\n\n\n# Accuracy\n\nytp = model.predict(Xt)\nysp = model.predict(Xs)\n\nprint('Training Accuracy : ',np.mean(ytp==yt))\nprint('Testing  Accuracy : ',np.mean(ysp==ys))\n\n\n# Predicting probablities\n\nprint(model.predict(Xs[0]), model.predict_prob(Xs[0]))\n\n\nplt.imshow(Xs[0].reshape([8,8]),cmap='gray')\nplt.axis('off')\nplt.show()\nprint('Prediction',model.predict(Xs[0]))\n\n\n# Visualizing \nfig = plt.figure(figsize=(12,10))\nmodel.VizPx(nfeatures=range(5,19),show=False)\nplt.suptitle('Example 3: Digit Classification')\nplt.tight_layout()\nplt.show()"
      ]
    }
  ],
  "metadata": {
    "kernelspec": {
      "display_name": "Python 3",
      "language": "python",
      "name": "python3"
    },
    "language_info": {
      "codemirror_mode": {
        "name": "ipython",
        "version": 3
      },
      "file_extension": ".py",
      "mimetype": "text/x-python",
      "name": "python",
      "nbconvert_exporter": "python",
      "pygments_lexer": "ipython3",
      "version": "3.10.13"
    }
  },
  "nbformat": 4,
  "nbformat_minor": 0
}