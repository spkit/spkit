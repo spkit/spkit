{
  "cells": [
    {
      "cell_type": "markdown",
      "metadata": {},
      "source": [
        "\n# Decision Trees with visualisations while buiding tree\n\nDecision Trees with visualisation while building trees.\n\nThis example covers the use of \n  \n  1. Classification and \n  2. Regression Tree \n  \nFrom ***spkit*** library with different verbosity mode while training and plotting resulting decision tree after training. We use two different datasets Iris and Breast Cancer for classification and Boston Housing price for Regression. \n"
      ]
    },
    {
      "cell_type": "code",
      "execution_count": null,
      "metadata": {
        "collapsed": false
      },
      "outputs": [],
      "source": [
        "# Import libraries\nimport numpy as np\nimport matplotlib.pyplot as plt\nimport spkit\nprint('spkit version :', spkit.__version__)\n\n# just to makesure same results\nnp.random.seed(11) \n\n# import Classification and Regression Tree from spkit\nfrom spkit.ml import ClassificationTree, RegressionTree\n\n# import dataset and train-test split from sklearn or use your own dataset\nfrom sklearn import datasets\nfrom sklearn.model_selection import train_test_split"
      ]
    },
    {
      "cell_type": "markdown",
      "metadata": {},
      "source": [
        "Classification Tree\n\n"
      ]
    },
    {
      "cell_type": "code",
      "execution_count": null,
      "metadata": {
        "collapsed": false
      },
      "outputs": [],
      "source": [
        "# 1. Iris Dataset\n\n# Loading and spliting for training and testing\ndata = datasets.load_iris()\nX = data.data\ny = data.target\n\nfeature_names = data.feature_names #Optional\n\nXt,Xs, yt, ys = train_test_split(X,y,test_size=0.3)\n\nprint('Shapes', X.shape,y.shape, Xt.shape, yt.shape, Xs.shape, ys.shape)\n\n# Fitting a model (displaying the tree building) with different modes\n\n# 1) verbose=0 (silence mode)\n\nmodel = ClassificationTree()\nmodel.fit(Xt,yt,verbose=0,feature_names=feature_names)\n\n\n# 2) verbose=1 (progress bar)\n\n\nmodel = ClassificationTree()\nmodel.fit(Xt,yt,verbose=1,feature_names=feature_names)\n\n# 3) verbose=2 (printing tree info)\n\n\nmodel = ClassificationTree()\nmodel.fit(Xt,yt,verbose=2,feature_names=feature_names)\n\n\n# 4) verbose=3 (printing branches only)\n\nmodel = ClassificationTree()\nmodel.fit(Xt,yt,verbose=3,feature_names=feature_names)\n\n\n# 5) verbose=4 (Plotting tree.. while building)\n\n\nmodel = ClassificationTree()\nmodel.fit(Xt,yt,verbose=4,feature_names=feature_names)\n\n\nplt.figure(figsize=(10,6))\nmodel.plotTree(show=True,scale=False)\n\n\nplt.figure(figsize=(8,6))\nmodel.plotTree(DiffBranchColor=False)\n\n\n# Predicting\n\nytp = model.predict(Xt)\nysp = model.predict(Xs)\n\n\nytpr = model.predict_proba(Xt)[:,1]\nyspr = model.predict_proba(Xs)[:,1]\n\nprint('Depth of trained Tree ', model.getTreeDepth())\nprint('Accuracy')\nprint('- Training : ',np.mean(ytp==yt))\nprint('- Testing  : ',np.mean(ysp==ys))\nprint('Logloss')\nTrloss = -np.mean(yt*np.log(ytpr+1e-10)+(1-yt)*np.log(1-ytpr+1e-10))\nTsloss = -np.mean(ys*np.log(yspr+1e-10)+(1-ys)*np.log(1-yspr+1e-10))\nprint('- Training : ',Trloss)\nprint('- Testing  : ',Tsloss)\n\n\n# Iris data with smaller tree\n\n\nmodel = ClassificationTree(max_depth=3)\nmodel.fit(Xt,yt,verbose=1,feature_names=feature_names)\nplt.figure(figsize=(5,5))\nmodel.plotTree(show=True,DiffBranchColor=True)\nytp = model.predict(Xt)\nysp = model.predict(Xs)\n\nytpr = model.predict_proba(Xt)[:,1]\nyspr = model.predict_proba(Xs)[:,1]\n\nprint('Depth of trained Tree ', model.getTreeDepth())\nprint('Accuracy')\nprint('- Training : ',np.mean(ytp==yt))\nprint('- Testing  : ',np.mean(ysp==ys))\nprint('Logloss')\nTrloss = -np.mean(yt*np.log(ytpr+1e-10)+(1-yt)*np.log(1-ytpr+1e-10))\nTsloss = -np.mean(ys*np.log(yspr+1e-10)+(1-ys)*np.log(1-yspr+1e-10))\nprint('- Training : ',Trloss)\nprint('- Testing  : ',Tsloss)"
      ]
    },
    {
      "cell_type": "markdown",
      "metadata": {},
      "source": [
        "Breast Cancer data \n\n"
      ]
    },
    {
      "cell_type": "code",
      "execution_count": null,
      "metadata": {
        "collapsed": false
      },
      "outputs": [],
      "source": [
        "data = datasets.load_breast_cancer()\nX = data.data\ny = data.target\n\nfeature_names = data.feature_names #Optional\n\nXt,Xs, yt, ys = train_test_split(X,y,test_size=0.3)\n\nprint(X.shape,y.shape, Xt.shape, yt.shape, Xs.shape, ys.shape)\n\n\n# Fitting model with displaying the details of tree in process (verbose=4)\n\n# **While building tree, To first choose True branch and then False set randomBranch=False**\n\n\nmodel = ClassificationTree()\nmodel.fit(Xt,yt,verbose=4,feature_names=feature_names,randomBranch=False)\nplt.show()\n\n\n# **To randomly selevting True or False branch set randomBranch=True**\n\nmodel = ClassificationTree()\nmodel.fit(Xt,yt,verbose=4,feature_names=feature_names,randomBranch=True)\nplt.show()\n\n\n#  Resulting tree\n\nplt.figure(figsize=(10,6))\nmodel.plotTree(show=True,DiffBranchColor=True,scale=False)\nplt.show()\n\n\n#  Fitting model with displaying the progress only (verbose=1)\n\n\n# %matplotlib inline\nmodel = ClassificationTree()\nmodel.fit(Xt,yt,verbose=1,feature_names=feature_names)\n\nplt.figure(figsize=(6,6))\nmodel.plotTree()\nplt.show()\n\n# Predicting\n\nytp = model.predict(Xt)\nysp = model.predict(Xs)\n\nytpr = model.predict_proba(Xt)[:,1]\nyspr = model.predict_proba(Xs)[:,1]\n\nprint('Depth of trained Tree ', model.getTreeDepth())\nprint('Accuracy')\nprint('- Training : ',np.mean(ytp==yt))\nprint('- Testing  : ',np.mean(ysp==ys))\nprint('Logloss')\nTrloss = -np.mean(yt*np.log(ytpr+1e-10)+(1-yt)*np.log(1-ytpr+1e-10))\nTsloss = -np.mean(ys*np.log(yspr+1e-10)+(1-ys)*np.log(1-yspr+1e-10))\nprint('- Training : ',Trloss)\nprint('- Testing  : ',Tsloss)"
      ]
    }
  ],
  "metadata": {
    "kernelspec": {
      "display_name": "Python 3",
      "language": "python",
      "name": "python3"
    },
    "language_info": {
      "codemirror_mode": {
        "name": "ipython",
        "version": 3
      },
      "file_extension": ".py",
      "mimetype": "text/x-python",
      "name": "python",
      "nbconvert_exporter": "python",
      "pygments_lexer": "ipython3",
      "version": "3.10.13"
    }
  },
  "nbformat": 4,
  "nbformat_minor": 0
}