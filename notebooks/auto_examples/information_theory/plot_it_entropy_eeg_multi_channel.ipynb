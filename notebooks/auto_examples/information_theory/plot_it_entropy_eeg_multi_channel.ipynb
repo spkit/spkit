{
  "cells": [
    {
      "cell_type": "markdown",
      "metadata": {},
      "source": [
        "\n# Entropy  -  EEG Signal - Multi-Channel\n\n\nAn example of Entropy computation (Mutual Information, Joint Information, Cross-entropy and KL-Divergence Entropy) \namong multi-channels of a sample EEG signals.\n\n\n(1) Mutual Information\n(2) Joint Information\n(3) Cross-entropy and \n(4) KL-Divergence Entropy\n"
      ]
    },
    {
      "cell_type": "code",
      "execution_count": null,
      "metadata": {
        "collapsed": false
      },
      "outputs": [],
      "source": [
        "import numpy as np\nimport matplotlib.pyplot as plt\nimport spkit as sp\nfrom spkit.data import load_data\nprint('spkit-version :', sp.__version__)\n\nX,ch_names = load_data.eegSample()\nt = np.arange(X.shape[0])/128\nnC = len(ch_names)\nprint(X.shape)\nprint(ch_names)\n\nprint('Selecting two channels AF3 (Frontal Lobe)and O1 (Occipital Lobe)')\nAF3 = X[:,0] #'AF3' - Frontal Lobe\nO1  = X[:,6] #'O1'  - Occipital Lobe\nbins = int(max(sp.bin_width(AF3)[1], sp.bin_width(O1)[1]))\n\n#Shannan entropy\nH_x1= sp.entropy(AF3,alpha=1,bins=bins)\nH_x2= sp.entropy(O1,alpha=1,bins=bins)\n\n#R\u00e9nyi entropy\nHr_x1= sp.entropy(AF3,alpha=2,bins=bins)\nHr_x2= sp.entropy(O1,alpha=2,bins=bins)\n\n#Joint entropy\nH_x12= sp.entropy_joint(AF3,O1,bins=bins)\n\n#Conditional Entropy\nH_x12= sp.entropy_cond(AF3,O1,bins=bins)\nH_x21= sp.entropy_cond(O1,AF3,bins=bins)\n\n#Mutual Information\nI_x12 = sp.mutual_info(AF3,O1,bins=bins)\n\n#Cross Entropy\nH_x12_cross= sp.entropy_cross(AF3,O1,bins=bins)\n\n#Diff Entropy\nD_x12= sp.entropy_kld(AF3,O1,bins=bins)\n\nprint('-')\nprint('Shannan entropy')\nprint('Entropy of AF3: H(AF3)=\\t',H_x1)\nprint('Entropy of O1 : H(O1) =\\t',H_x2)\nprint('-')\nprint('R\u00e9nyi entropy')\nprint('Entropy of AF3: H(AF3)=\\t',Hr_x1)\nprint('Entropy of O1 : H(O1) =\\t',Hr_x2)\nprint('-')\nprint('Joint Entropy: H(AF3,O1)    =\\t',H_x12)\nprint('Mutual Information I(AF3,O1)=\\t',I_x12)\nprint('Conditional Entropy of : H(AF3|O1)=\\t',H_x12)\nprint('Conditional Entropy of : H(O1|AF3)=\\t',H_x21)\nprint('-')\nprint('Cross Entropy of : H(AF3,O1)=\\t',H_x12_cross)\nprint('Kullback\u2013Leibler divergence : Dkl(AF3,O1)=\\t',D_x12)\n\n\nprint('Entropy of Each channel')\n\nbins = int(max(sp.bin_width(ch)[1] for ch in X.T))\n\nH_X= [sp.entropy(x,alpha=1,bins=bins) for x in X.T]\n\nMI = np.zeros([nC,nC])\nJE = np.zeros([nC,nC])\nCE = np.zeros([nC,nC])\nKL = np.zeros([nC,nC])\nfor i in range(nC):\n    x1 = X[:,i]\n    for j in range(nC):\n        x2 = X[:,j]\n\n        #Mutual Information\n        MI[i,j] = sp.mutual_info(x1,x2,bins=bins)\n\n        #Joint entropy\n        JE[i,j]= sp.entropy_joint(x1,x2,bins=bins)\n\n        #Cross Entropy\n        CE[i,j]= sp.entropy_cross(x1,x2,bins=bins)\n\n        #Diff Entropy\n        KL[i,j]= sp.entropy_kld(x1,x2,bins=bins)\n\n\nMI_d = MI - np.diag(np.diag(MI))\nplt.figure(figsize=(8,7))\nplt.subplot(221)\nplt.imshow(MI_d,origin='lower')\nplt.yticks(np.arange(nC),ch_names)\nplt.xticks(np.arange(nC),ch_names,rotation=90)\nplt.title('Mutual Information')\nplt.colorbar()\nplt.subplot(222)\nplt.imshow(JE,origin='lower')\nplt.yticks(np.arange(nC),ch_names)\nplt.xticks(np.arange(nC),ch_names,rotation=90)\nplt.title('Joint Entropy')\nplt.colorbar()\nplt.subplot(223)\nplt.imshow(CE,origin='lower')\nplt.yticks(np.arange(nC),ch_names)\nplt.xticks(np.arange(nC),ch_names,rotation=90)\nplt.title('Cross Entropy')\nplt.colorbar()\nplt.subplot(224)\nplt.imshow(KL,origin='lower')\nplt.yticks(np.arange(nC),ch_names)\nplt.xticks(np.arange(nC),ch_names,rotation=90)\nplt.title('KL-Divergence')\nplt.colorbar()\nplt.tight_layout()\nplt.show()\n\nplt.figure(figsize=(12,3))\nplt.bar(np.arange(nC)*2,H_X)\nplt.xticks(np.arange(nC)*2,ch_names)\nplt.ylabel('Entropy (bits)')\nplt.xlabel('Channel')\nplt.tight_layout()\nplt.show()\n\nplt.figure(figsize=(12,3))\nplt.plot(t,X+np.arange(nC)*200)\nplt.grid()\nplt.xlim(t[0],t[-1])\nplt.yticks(np.arange(nC)*200, ch_names)\nplt.xlabel('time (s)')\nplt.tight_layout()\nplt.show()"
      ]
    }
  ],
  "metadata": {
    "kernelspec": {
      "display_name": "Python 3",
      "language": "python",
      "name": "python3"
    },
    "language_info": {
      "codemirror_mode": {
        "name": "ipython",
        "version": 3
      },
      "file_extension": ".py",
      "mimetype": "text/x-python",
      "name": "python",
      "nbconvert_exporter": "python",
      "pygments_lexer": "ipython3",
      "version": "3.10.13"
    }
  },
  "nbformat": 4,
  "nbformat_minor": 0
}