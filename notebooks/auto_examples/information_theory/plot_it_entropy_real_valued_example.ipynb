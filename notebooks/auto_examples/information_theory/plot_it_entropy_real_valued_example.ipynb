{
  "cells": [
    {
      "cell_type": "markdown",
      "metadata": {},
      "source": [
        "\n# Entropy  -  Real-Valued Source\n\n\nEntropy of real-values source is computed by estimating the probability distribution of the source signal.\nWhile doing computing it, entropy value depend a lot on number of bins used to discreetised the signal/source, so to\nfairly compare two sources, either use normalised entropy or enforce the equal number of bins for both signals/sources\n"
      ]
    },
    {
      "cell_type": "code",
      "execution_count": null,
      "metadata": {
        "collapsed": false
      },
      "outputs": [],
      "source": [
        "import numpy as np\nimport matplotlib.pyplot as plt\nimport spkit as sp\nprint('spkit-version',sp.__version__)\n\nx = np.random.rand(10000)\ny = np.random.randn(10000)\n\n#Shannan entropy\nH_x = sp.entropy(x,alpha=1)\nH_y = sp.entropy(y,alpha=1)\nprint('Shannan entropy')\nprint('Entropy of x: H(x) = ',H_x)\nprint('Entropy of y: H(y) = ',H_y)\nprint('')\n\n# Entropy of real-values source depend a lot on number of bins, so to\n# fairly compare two sources, either use normalised entropy or enforce\n# the equal number of bins for both sources\n\nHn_x = sp.entropy(x,alpha=1, normalize=True)\nHn_y = sp.entropy(y,alpha=1, normalize=True)\nprint('Normalised Shannan entropy')\nprint('Entropy of x: H(x) = ',Hn_x)\nprint('Entropy of y: H(y) = ',Hn_y)\nprint('')\n\nbins = int(max(sp.bin_width(x)[1], sp.bin_width(y)[1]))\n\nHf_x = sp.entropy(x,alpha=1, bins=bins)\nHf_y = sp.entropy(y,alpha=1, bins=bins)\n\nprint('Un-normalised Shannan entropy with same number of bins')\nprint('Entropy of x: H(x) = ',Hf_x)\nprint('Entropy of y: H(y) = ',Hf_y)\n\n\nprint('')\n#R\u00e9nyi entropy\nHr_x= sp.entropy(x,alpha=2,bins=bins)\nHr_y= sp.entropy(y,alpha=2,bins=bins)\nprint('R\u00e9nyi entropy')\nprint('Entropy of x: H(x) = ',Hr_x)\nprint('Entropy of y: H(y) = ',Hr_y)\n\n\nplt.figure(figsize=(12,4))\nplt.subplot(121)\nsp.HistPlot(x,show=False,norm=True)\nplt.title(f'Shannan Entropy: {Hf_x.round(4)} bits')\nplt.xlabel('source: x ~ U[0-1]')\nplt.ylabel('prob.')\nplt.subplot(122)\nsp.HistPlot(y,show=False,norm=True)\nplt.title(f'Shannan Entropy: {Hf_y.round(4)} bits')\nplt.xlabel('source: y ~ N(0,1)')\nplt.ylabel('prob.')\nplt.tight_layout()\nplt.show()"
      ]
    }
  ],
  "metadata": {
    "kernelspec": {
      "display_name": "Python 3",
      "language": "python",
      "name": "python3"
    },
    "language_info": {
      "codemirror_mode": {
        "name": "ipython",
        "version": 3
      },
      "file_extension": ".py",
      "mimetype": "text/x-python",
      "name": "python",
      "nbconvert_exporter": "python",
      "pygments_lexer": "ipython3",
      "version": "3.10.13"
    }
  },
  "nbformat": 4,
  "nbformat_minor": 0
}