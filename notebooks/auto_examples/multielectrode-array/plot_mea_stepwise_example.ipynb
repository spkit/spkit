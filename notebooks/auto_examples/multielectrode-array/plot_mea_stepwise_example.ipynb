{
  "cells": [
    {
      "cell_type": "markdown",
      "metadata": {},
      "source": [
        "\n# MEA: Step-wise Analysis: Example\n\nIn this example code, we demonstrate analysis of MEA Recording, with each step. There are 13 steps.\n\n1. Read HDF File\n2. Stim loc\n3. Align Cycles\n4. Average Cycles/Select one\n5. Activation Time\n6. Activation & Repolarisation Time\n7. APD computation\n8. Extract EGM\n9. EGM Feature Extraction\n10. BAD Channels\n11. Feature Matrix\n12. Interpolation\n13. Conduction Velocity\n"
      ]
    },
    {
      "cell_type": "code",
      "execution_count": null,
      "metadata": {
        "collapsed": false
      },
      "outputs": [],
      "source": [
        "#sp.mea\nimport numpy as np\nimport matplotlib.pyplot as plt\nimport os, requests\nimport spkit as sp\nprint('spkit-version: ',sp.__version__)\n\n# Download Sample file if not done already\n\nfile_name= 'MEA_Sample_North_1000mV_1Hz.h5'\n\nif not(os.path.exists(file_name)):\n    path = 'https://spkit.github.io/data_samples/files/MEA_Sample_North_1000mV_1Hz.h5'\n    req = requests.get(path)\n    with open(file_name, 'wb') as f:\n            f.write(req.content)"
      ]
    },
    {
      "cell_type": "markdown",
      "metadata": {},
      "source": [
        "## Step 1: Read File\n\n"
      ]
    },
    {
      "cell_type": "code",
      "execution_count": null,
      "metadata": {
        "collapsed": false
      },
      "outputs": [],
      "source": [
        "fs = 25000\nX,fs,ch_labels = sp.io.read_hdf(file_name,fs=fs,verbose=1)"
      ]
    },
    {
      "cell_type": "markdown",
      "metadata": {},
      "source": [
        "## Step 2: Stim Localisation\n\n"
      ]
    },
    {
      "cell_type": "code",
      "execution_count": null,
      "metadata": {
        "collapsed": false
      },
      "outputs": [],
      "source": [
        "stim_fhz = 1\nstim_loc,_  = sp.mea.get_stim_loc(X,fs=fs,fhz=stim_fhz, plot=1,verbose=1)\n\nstim_loc_ms = 1000*np.array(stim_loc)/fs\n\n\nt = 1000*np.arange(X.shape[1])/fs\nsep = 1000\ntix = np.arange(len(X))*sep\ntiy = np.arange(0,len(X)+1,5)\ntiy[0] =1\nplt.figure(figsize=(12,7))\nplt.plot(t,X.T - tix)\nplt.xlim([t[0],t[-1]])\nplt.yticks(-(tiy-1)*sep,tiy,fontsize=10)\nplt.ylabel('Channel #')\nplt.xlabel('time (ms)')\nplt.title('Full recording of channels')\nplt.xticks(stim_loc_ms)\nplt.tight_layout()\nplt.show()"
      ]
    },
    {
      "cell_type": "markdown",
      "metadata": {},
      "source": [
        "## Step 3: Align Cycles\n\n"
      ]
    },
    {
      "cell_type": "code",
      "execution_count": null,
      "metadata": {
        "collapsed": false
      },
      "outputs": [],
      "source": [
        "exclude_first_dur=2\ndur_after_spike=500\nexclude_last_cycle=True\n\nXB = sp.mea.align_cycles(X,stim_loc,fs=fs, exclude_first_dur=exclude_first_dur,dur_after_spike=dur_after_spike,\n                         exclude_last_cycle=exclude_last_cycle,pad=np.nan,verbose=True)\n\nprint('Number of EGMs/Cycles per channel =',XB.shape[2])\nch = 0\nt = 1000*np.arange(XB.shape[1])/fs\nplt.figure(figsize=(5,4))\nplt.plot(t,XB[ch,:,:])\nplt.grid()\nplt.title(f'{XB.shape[2]} Cycles (Alinged) of Channel: {ch}')\nplt.xlabel('time (ms)')\nplt.show()"
      ]
    },
    {
      "cell_type": "markdown",
      "metadata": {},
      "source": [
        "## Step 4: Average Cycles or Select one\n\n"
      ]
    },
    {
      "cell_type": "code",
      "execution_count": null,
      "metadata": {
        "collapsed": false
      },
      "outputs": [],
      "source": [
        "egm_number = -1\n\nif egm_number<0:\n    X1B = np.nanmean(XB,axis=2)\n    print(' -- Averaged All EGM')\nelse:\n    # egm_number should be between from 0 to 'Number of EGMs/Cycles per channel '\n    assert egm_number in list(range(XB.shape[2]))\n    X1B = XB[:,:,egm_number]\n    print(' -- Selected EGM ->',egm_number)\n    \nprint('EGM Shape : ',X1B.shape)"
      ]
    },
    {
      "cell_type": "markdown",
      "metadata": {},
      "source": [
        "## Step 5-6: Activation and Repolarisation Time\n\n"
      ]
    },
    {
      "cell_type": "code",
      "execution_count": null,
      "metadata": {
        "collapsed": false
      },
      "outputs": [],
      "source": [
        "#at_range = [0,100]\n#rt_range = [2,100]\nat_range=[0,None]\nrt_range= [0.5, None]\n\n# for only activation\nat_loc = sp.mea.activation_time_loc(X1B,fs=fs,at_range=at_range)\n\n# for only activation and repolarisation together\nat_loc, rt_loc = sp.mea.activation_repol_time_loc(X1B,fs=fs,at_range=at_range, rt_range=rt_range)\n\nat_loc_ms = 1000*at_loc/fs\nrt_loc_ms = 1000*rt_loc/fs\n\nat_loc_ms, rt_loc_ms"
      ]
    },
    {
      "cell_type": "markdown",
      "metadata": {},
      "source": [
        "## Step 7: APD Computation\n\n"
      ]
    },
    {
      "cell_type": "code",
      "execution_count": null,
      "metadata": {
        "collapsed": false
      },
      "outputs": [],
      "source": [
        "apd_ms = rt_loc_ms-at_loc_ms\n\nAT_grid = sp.mea.arrange_mea_grid(at_loc_ms, ch_labels=ch_labels)\nRT_grid = sp.mea.arrange_mea_grid(rt_loc_ms, ch_labels=ch_labels)\nAPD_grid = sp.mea.arrange_mea_grid(apd_ms, ch_labels=ch_labels)\n\nfig, ax = plt.subplots(1,3, figsize=(15,5))\nsp.mea.mat_1_show(AT_grid,vmax=20, label = ('ms'),ax=ax[0])\nax[0].set_title('Activation Time')\nsp.mea.mat_1_show(RT_grid,vmax=100,label = ('ms'),ax=ax[1])\nax[1].set_title('Repolarisation Time')\nsp.mea.mat_1_show(APD_grid,vmax=100, label = ('ms'),ax=ax[2])\nax[2].set_title('APD')\nplt.tight_layout()\nplt.show()"
      ]
    },
    {
      "cell_type": "markdown",
      "metadata": {},
      "source": [
        "## Step 8: Extract EGMs\n\n"
      ]
    },
    {
      "cell_type": "code",
      "execution_count": null,
      "metadata": {
        "collapsed": false
      },
      "outputs": [],
      "source": [
        "dur_from_loc = 5\nremove_drift = True\n\nXE,ATloc = sp.mea.extract_egm(X1B,act_loc=at_loc,fs=fs,dur_from_loc=dur_from_loc,remove_drift=remove_drift)\nprint(XE.shape, ATloc.shape)"
      ]
    },
    {
      "cell_type": "markdown",
      "metadata": {},
      "source": [
        "## Step 9: EGM Feature Extraction\n\n"
      ]
    },
    {
      "cell_type": "code",
      "execution_count": null,
      "metadata": {
        "collapsed": false
      },
      "outputs": [],
      "source": [
        "EGM_feat = []\nfor i in range(len(XE)):\n    egmf, feat_names = sp.mea.egm_features(XE[i].copy(),act_loc=ATloc[i],fs=fs,plot=0,verbose=0,width_rel_height=0.75,\n                                   findex_rel_dur=1, findex_rel_height=0.3, findex_npeak=False)\n    EGM_feat.append(egmf)\n\n#XE = np.array(XE)\n#ATloc = np.array(ATloc)\nEGM_feat = np.array(EGM_feat)\n\nprint('-'*100)\nprint('Following EGM Features are etracted: ', feat_names)\nprint('EGM_Feat shape :',EGM_feat.shape)\nprint('Shapes: XE =',XE.shape, ', AT =',ATloc.shape,', EGM_F=' ,EGM_feat.shape)\nprint('-'*100)"
      ]
    },
    {
      "cell_type": "markdown",
      "metadata": {},
      "source": [
        "## Step 10: BAD Channels\n\n"
      ]
    },
    {
      "cell_type": "code",
      "execution_count": null,
      "metadata": {
        "collapsed": false
      },
      "outputs": [],
      "source": [
        "#=============STEP 10.1: BAD Channel (1) ================================\ngood_channels = []\nbad_channels = [15]\n\np2p_thr=5\nbad_ch_stim_thr = 2\nbad_ch_mnmx=[None, None]\n\nrange_act_thr=[0,50]\n\nbad_channels_list =[]\nbad_channels_idx_1 = []\n\nbad_channels_idx_1 = sp.mea.find_bad_channels_idx(X,thr=bad_ch_stim_thr,stim_fhz=stim_fhz,fs=fs,\n                    mnmx=bad_ch_mnmx,plot=False,plot_dur=2,verbose=0)\nbad_channels_ch_1  = list(ch_labels[bad_channels_idx_1])\nbad_channels_list  = bad_channels_list + bad_channels_ch_1\nbad_channels_list  = list(set(bad_channels_list))\nbad_channels_list.sort()\n\n#=============STEP 10.2: BAD Channel (2) ================================\nbad_channels_idx_2 = []\nbad_channels_idx_2 = np.where(EGM_feat[:,0]<p2p_thr)[0]\nbad_channels_ch_2 = list(ch_labels[bad_channels_idx_2])\nbad_channels_list = bad_channels_list + bad_channels_ch_2\n\n\n#=============STEP 10.3: BAD Channel (3) ================================\nbad_channels_idx_3 =[]\nbad_channels_idx_3 = bad_channels_idx_3 + list(np.where(at_loc_ms<range_act_thr[0])[0])\nbad_channels_idx_3 = bad_channels_idx_3 + list(np.where(at_loc_ms>range_act_thr[1])[0])\nbad_channels_ch_3 = list(ch_labels[bad_channels_idx_3])\nbad_channels_list = bad_channels_list + bad_channels_ch_3\n\nbad_channels_list = bad_channels_list + bad_channels\nbad_channels_list = list(set(bad_channels_list))\nbad_channels_list.sort()\n\nif len(good_channels):\n    bad_channels_list = list(set(bad_channels_list) - set(good_channels))\n    bad_channels_list.sort()\n\n\ngood_channels_list = np.array([ch for ch in ch_labels if ch not in bad_channels_list])\ngood_channels_list_idx = np.array([list(ch_labels).index(ch) for ch in ch_labels if ch not in bad_channels_list])\n\nprint('-'*100)\nprint('BAD CHANNELS')\nprint('- BASED ON STIM thr =', bad_ch_stim_thr)\nprint('  - ch:', bad_channels_ch_1)\nprint('- BASED ON Peak-to-Peak volt thr:',p2p_thr)\nprint('  - ch:', bad_channels_ch_2)\nprint('- BASED ON Activation time (ms) range thr:', range_act_thr)\nprint('  - ch:', bad_channels_ch_3)\nprint('- Manually passed:')\nprint('  - ch:', bad_channels)\nprint('GOOD CHANNELS passed:')\nprint('  - ch:',good_channels)\nprint('-'*50)\nprint('Final list of Bad Channels:')\nprint(' - ch:',bad_channels_list)\nprint('Final list of Good Channels:')\nprint(' - ch:',good_channels_list)\nprint('-'*100)\n\n\nsp.mea.plot_mea_grid(X1B,act_spikes=at_loc,ch_labels=ch_labels,bad_channels=bad_channels_list,\n                     xlim=at_range,verbose=True,\n                     figsize=(8,7),title_style=1, title='Time Trace + AT')\n\nsp.mea.plot_mea_grid(XE,ch_labels=ch_labels,bad_channels=bad_channels_list,\n                     figsize=(8,7),verbose=0,show=True,title_style=1,title='Electrograms (EGMs)')"
      ]
    },
    {
      "cell_type": "markdown",
      "metadata": {},
      "source": [
        "## Step 11: Feature Matrix\n\n"
      ]
    },
    {
      "cell_type": "code",
      "execution_count": null,
      "metadata": {
        "collapsed": false
      },
      "outputs": [],
      "source": [
        "Ax,Mxbad = sp.mea.mea_feature_map(at_loc_ms,ch_labels=ch_labels,bad_channels=bad_channels_list,figsize=(10,4),\n                               vmin=0,vmax=20,label='ms',title='Activation Time')\n\n_ = sp.mea.mea_feature_map(EGM_feat[:,0],ch_labels=ch_labels,bad_channels=bad_channels_list,figsize=(10,4),\n                               vmin=0,vmax=300,label='mV',title='Peak-to-Peak')\n\n\n_ = sp.mea.mea_feature_map(1000*EGM_feat[:,1]/fs,ch_labels=ch_labels,bad_channels=bad_channels_list,figsize=(10,4),\n                               vmin=0,vmax=5,label='ms',title='EGM Duration')\n\n_ = sp.mea.mea_feature_map(EGM_feat[:,2],ch_labels=ch_labels,bad_channels=bad_channels_list,figsize=(10,4),\n                               vmin=0,vmax=5,label='F-index',title='Fractionation Index',fmt='.0f')"
      ]
    },
    {
      "cell_type": "markdown",
      "metadata": {},
      "source": [
        "## Step 12: Interpolating Activation Map\n\n"
      ]
    },
    {
      "cell_type": "code",
      "execution_count": null,
      "metadata": {
        "collapsed": false
      },
      "outputs": [],
      "source": [
        "range_act_thr=[0,50]\nintp_param = dict(pkind='linear',filter_size=3,method='conv')\n\nAxI, AxIx = sp.fill_nans_2d(Ax*Mxbad,clip_range=range_act_thr,**intp_param)\n\n\n\n\nsp.mea.mat_list_show([Ax, Ax*Mxbad, AxI],figsize=(15,4),vmin=0,vmax=20,grid=(1,3),\n              titles=['Activation Time', '- Bad Channels', 'Interpolated Activation Time'],labels=['ms','ms','ms'])\n\nsp.mea.mat_list_show([AxI, AxIx],figsize=(15,4),vmin=0,vmax=20,grid=(1,3),\n              titles=['Interpolated (preserving original values)', 'Interpolation-Smooth'],labels=['ms','ms'])"
      ]
    },
    {
      "cell_type": "markdown",
      "metadata": {},
      "source": [
        "## Step 13: Computing Conduction Velocity and maps\n\n"
      ]
    },
    {
      "cell_type": "code",
      "execution_count": null,
      "metadata": {
        "collapsed": false
      },
      "outputs": [],
      "source": [
        "#=============STEP 13: Computing Conduction Velocity ================\ncv_param = dict(eD=700,esp=1e-10,cv_pad=np.nan,cv_thr=100,arr_agg='mean',plots=2,verbose=True)\n\nCV_df, CV_thetas, CV0, CV = sp.mea.compute_cv(AxI,Mxbad,flip=False,**cv_param)\n\n_, CV_thetas_smooth, _, _ = sp.mea.compute_cv(AxIx,Mxbad,flip=False,silent_mode=True,**cv_param)\n\n\n\nplt.figure(figsize=(15,6))\nplt.subplot(121)\nim = plt.imshow(AxI,cmap='jet',interpolation='bilinear',vmin=0,vmax=20,extent=[0,7,7,0])\nplt.contour(AxI,levels=25,colors='k')\nplt.colorbar(im, label='ms')\nplt.title('Activation Map')\nplt.xticks([])\nplt.yticks([])\nplt.subplot(122)\nsp.mea.mat_1_show(CV*Mxbad,fmt='.1f',vmin=10,vmax=30,cmap='jet',label='cm/s',title='Cond. Velocity')\nplt.tight_layout()\nplt.show()\n\ncv_arr_prop = dict(color='w',scale=None)\n\n_  = sp.direction_flow_map(X_theta=CV_thetas,X=AxI,upsample=1,\n                            figsize=(15,7),square=True,cbar=False,arr_pivot='mid',\n                           stream_plot=True,title='CV',show=True,\n                           heatmap_prop =dict(vmin=0,vmax=20,cmap='jet'),\n                           arr_prop =cv_arr_prop,\n                           stream_prop =dict(density=1,color='k',linewidth=2))"
      ]
    }
  ],
  "metadata": {
    "kernelspec": {
      "display_name": "Python 3",
      "language": "python",
      "name": "python3"
    },
    "language_info": {
      "codemirror_mode": {
        "name": "ipython",
        "version": 3
      },
      "file_extension": ".py",
      "mimetype": "text/x-python",
      "name": "python",
      "nbconvert_exporter": "python",
      "pygments_lexer": "ipython3",
      "version": "3.10.13"
    }
  },
  "nbformat": 4,
  "nbformat_minor": 0
}