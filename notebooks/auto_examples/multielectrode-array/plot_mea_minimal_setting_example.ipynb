{
  "cells": [
    {
      "cell_type": "markdown",
      "metadata": {},
      "source": [
        "\n# MEA: Minimal Setting: Example\n\nIn this example code, we demonstrate analysis of MEA Recording, with minimal settings, using signle line\nthat includes all the 13 steps\n\n1. Read HDF File\n2. Stim loc\n3. Align Cycles\n4. Average Cycles/Select one\n5. Activation Time\n6. Activation & Repolarisation Time\n7. APD computation\n8. Extract EGM\n9. EGM Feature Extraction\n10. BAD Channels\n11. Feature Matrix\n12. Interpolation\n13. Conduction Velocity\n"
      ]
    },
    {
      "cell_type": "code",
      "execution_count": null,
      "metadata": {
        "collapsed": false
      },
      "outputs": [],
      "source": [
        "#sp.mea\nimport numpy as np\nimport matplotlib.pyplot as plt\nimport os, requests\nimport spkit as sp\nprint('spkit-version: ',sp.__version__)\n\n# Download Sample file if not done already\n\nfile_name= 'MEA_Sample_North_1000mV_1Hz.h5'\n\nif not(os.path.exists(file_name)):\n    path = 'https://spkit.github.io/data_samples/files/MEA_Sample_North_1000mV_1Hz.h5'\n    req = requests.get(path)\n    with open(file_name, 'wb') as f:\n            f.write(req.content)"
      ]
    },
    {
      "cell_type": "code",
      "execution_count": null,
      "metadata": {
        "collapsed": false
      },
      "outputs": [],
      "source": [
        "Features_df,Features_ch,Features_mat, Data = sp.mea.analyse_mea_file(file_name,stim_fhz=1)"
      ]
    },
    {
      "cell_type": "markdown",
      "metadata": {},
      "source": [
        "## Results\n\n"
      ]
    },
    {
      "cell_type": "code",
      "execution_count": null,
      "metadata": {
        "collapsed": false
      },
      "outputs": [],
      "source": [
        "print(Features_df)\n\n\nprint(Features_ch)"
      ]
    }
  ],
  "metadata": {
    "kernelspec": {
      "display_name": "Python 3",
      "language": "python",
      "name": "python3"
    },
    "language_info": {
      "codemirror_mode": {
        "name": "ipython",
        "version": 3
      },
      "file_extension": ".py",
      "mimetype": "text/x-python",
      "name": "python",
      "nbconvert_exporter": "python",
      "pygments_lexer": "ipython3",
      "version": "3.10.13"
    }
  },
  "nbformat": 4,
  "nbformat_minor": 0
}