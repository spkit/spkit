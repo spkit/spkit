{
  "cells": [
    {
      "cell_type": "markdown",
      "metadata": {},
      "source": [
        "\n# Sample and Approximate Entropy: Comparison\n\nIn this example, we compare Approximate Emtropy with Sample Entropy\n"
      ]
    },
    {
      "cell_type": "code",
      "execution_count": null,
      "metadata": {
        "collapsed": false
      },
      "outputs": [],
      "source": [
        "import numpy as np\nimport matplotlib.pyplot as plt\nimport spkit as sp\n\nfs = 1000\nt = np.arange(1000)/fs\nx1 = np.cos(2*np.pi*10*t)+np.cos(2*np.pi*30*t)+np.cos(2*np.pi*20*t)\n\n\nnp.random.seed(1)\nx2 = np.random.randn(1000)\nx3 = np.random.rand(1000)-0.5\n\nplt.figure(figsize=(12,3))\nplt.subplot(131)\nplt.plot(t,x1)\nplt.title(r'x1~$\\mathcal{Sin}$')\nplt.subplot(132)\nplt.plot(t,x2)\nplt.title(r'x2~$\\mathcal{N}(0,1)$')\nplt.subplot(133)\nplt.plot(t,x3)\nplt.title(r'x3~$\\mathcal{U}[-0.5,0.5]$')\nplt.tight_layout()\nplt.show()\n\nHx1_apx = sp.entropy_approx(x1,m=3,r=0.2*np.std(x1))\nHx2_apx = sp.entropy_approx(x2,m=3,r=0.2*np.std(x2))\nHx3_apx = sp.entropy_approx(x3,m=3,r=0.2*np.std(x3))\n\nprint(Hx1_apx, Hx2_apx, Hx3_apx)\n\nHx1_sae = sp.entropy_sample(x1,m=3,r=0.2*np.std(x1))\nHx2_sae = sp.entropy_sample(x2,m=3,r=0.2*np.std(x2))\nHx3_sae = sp.entropy_sample(x3,m=3,r=0.2*np.std(x3))\nprint(Hx1_sae, Hx2_sae, Hx3_sae)\n\n\nprint('--'*30)\nprint('  \\t Aproximate Entropy \\t Sample Entropy')\nprint('--'*30)\nprint(f'x1:\\t {Hx1_apx} \\t {Hx1_sae}')\nprint(f'x2:\\t {Hx2_apx} \\t {Hx2_sae}')\nprint(f'x3:\\t {Hx3_apx} \\t {Hx3_sae}')\nprint('--'*30)\n\n\nimport time\ntt1 = []\nfor _ in range(5):\n    start = time.process_time()\n    sp.entropy_approx(x1,m=3,r=0.2*np.std(x1))\n    tt1.append(time.process_time() - start)\n    #print(time.process_time() - start)\n\n\ntt2 = []\nfor _ in range(5):\n    start = time.process_time()\n    sp.entropy_sample(x1,m=3,r=0.2*np.std(x1))\n    tt2.append(time.process_time() - start)\n    #print(time.process_time() - start)\n\nprint('--'*30)\nprint('-          time: \\t Mean          \\t SD')\nprint('--'*30)\nprint(f'Approx Entropy:\\t {np.mean(tt1)} \\t {np.std(tt1)}')\nprint(f'Sample Entropy:\\t {np.mean(tt2)} \\t {np.std(tt2)}')\nprint('--'*30)\n\nApSmEn1 = []\nApSmEn2 = []\nSD = []\nPs = np.arange(0,1+0.04,0.05)\nfor i,p in enumerate(Ps):\n    sp.utils.ProgBar_JL(i,len(Ps))\n    x41 = x1*(1-p) + p*x2\n    aprEn = sp.entropy_approx(x41,m=3,r=0.2*np.std(x41))\n    smEn  = sp.entropy_sample(x41,m=3,r=0.2*np.std(x41))\n    ApSmEn1.append([p,aprEn,smEn])\n    \n    x42 = x1*(1-p) + p*x3\n    aprEn = sp.entropy_approx(x42,m=3,r=0.2*np.std(x42))\n    smEn  = sp.entropy_sample(x42,m=3,r=0.2*np.std(x42))\n    ApSmEn2.append([p,aprEn,smEn])\n\n    SD.append([p,0.2*np.std(x41),0.2*np.std(x42)])\n\nApSmEn1 = np.array(ApSmEn1)\nApSmEn2 = np.array(ApSmEn2)\nSD = np.array(SD)\n\nplt.figure(figsize=(11,5))\nplt.subplot(121)\nplt.plot(ApSmEn1[:,0],ApSmEn1[:,1:], label=['ApproxEn', 'SamEn'])\nplt.xlim([0,1])\nplt.xlabel('p')\nplt.ylabel('SamEn/AproxEn')\nplt.grid()\nplt.title(r'$x = (1-p)x_1 + px_2$')\nplt.legend()\n\nplt.subplot(122)\nplt.plot(ApSmEn2[:,0],ApSmEn2[:,1:], label=['ApproxEn', 'SamEn'])\nplt.xlim([0,1])\nplt.xlabel('p')\nplt.legend()\nplt.grid()\nplt.title(r'$x = (1-p)x_1 + px_3$')\nplt.tight_layout()\nplt.show()"
      ]
    }
  ],
  "metadata": {
    "kernelspec": {
      "display_name": "Python 3",
      "language": "python",
      "name": "python3"
    },
    "language_info": {
      "codemirror_mode": {
        "name": "ipython",
        "version": 3
      },
      "file_extension": ".py",
      "mimetype": "text/x-python",
      "name": "python",
      "nbconvert_exporter": "python",
      "pygments_lexer": "ipython3",
      "version": "3.10.13"
    }
  },
  "nbformat": 4,
  "nbformat_minor": 0
}