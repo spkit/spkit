{
  "cells": [
    {
      "cell_type": "markdown",
      "metadata": {},
      "source": [
        "\n# Dispersion Entropy with Embedding dim\n\nDispersion Entropy is computed by first discretising the signal and then extracting all the\ndispersing patterns of given embedding dimension. The ditrubution of patterns determines the\ndispersion entropy of signal. If signal have a few patterns with high repetitions compare to others\nsignal is less random which entails the low entropy. On the other hand, a random signal with no\npatterns repetitions more than others leads to high entropy.\n"
      ]
    },
    {
      "cell_type": "code",
      "execution_count": null,
      "metadata": {
        "collapsed": false
      },
      "outputs": [],
      "source": [
        "import numpy as np\nimport matplotlib.pyplot as plt\nimport spkit as sp\nprint('spkit-version',sp.__version__)\n\n# load sample EEG Signal\nX,fs, ch_names = sp.data.eeg_sample_14ch()\nx = X[:,0]\nx = sp.filter_X(x,band=[1,20],btype='bandpass',verbose=0)\nprint('EEG Sample x: Shape',x.shape)\n\nt = np.arange(x.shape[0])/fs\n\n#Dispersion Entropy\nprint('-'*50)\nprint('Dispersion Entropy with embeding dimention=2')\nprint('-'*50)\n\nde,prob,patterns_dict,_,_= sp.dispersion_entropy(x,classes=10, scale=1, emb_dim=2, delay=1,return_all=True)\nprint('Disperssion Entropy: ',de)\n\nplt.figure(figsize=(10,3))\nplt.subplot(121)\nplt.plot(t,x)\nplt.xlim([t[0],t[-1]])\nplt.xlabel('time (s)')\nplt.ylabel('x')\nplt.title('signal: x')\nplt.grid()\nplt.subplot(122)\nplt.stem(np.arange(len(prob)),prob)\nplt.xlabel('pattern #')\nplt.ylabel('probability')\nplt.title(f'Disperssion Entropy: {de:,.4f}')\nplt.show()\n\nprint('All the patterns found (embeding dimention=2)')\nsp.utils.pretty_print(patterns_dict,n=5,show_index=False)"
      ]
    }
  ],
  "metadata": {
    "kernelspec": {
      "display_name": "Python 3",
      "language": "python",
      "name": "python3"
    },
    "language_info": {
      "codemirror_mode": {
        "name": "ipython",
        "version": 3
      },
      "file_extension": ".py",
      "mimetype": "text/x-python",
      "name": "python",
      "nbconvert_exporter": "python",
      "pygments_lexer": "ipython3",
      "version": "3.10.13"
    }
  },
  "nbformat": 4,
  "nbformat_minor": 0
}