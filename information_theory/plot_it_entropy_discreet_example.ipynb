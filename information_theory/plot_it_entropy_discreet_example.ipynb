{
  "cells": [
    {
      "cell_type": "markdown",
      "metadata": {},
      "source": [
        "\n# Entropy  -  Discreet Source\n\n\nAn example of computation of entropy for a discreet source.\n"
      ]
    },
    {
      "cell_type": "code",
      "execution_count": null,
      "metadata": {
        "collapsed": false
      },
      "outputs": [],
      "source": [
        "import numpy as np\nimport matplotlib.pyplot as plt\nimport spkit as sp\n\n\n# Generate a discreet random variable x\n\nnp.random.seed(2)\nx = (np.random.rand(30)*10).round()\n\n\n# compute entropy\nHx = sp.entropy(x,is_discrete=True)\n\nprint('Random variable x : \\n',x)\n\n\nx_u,frq = np.unique(x, return_counts=True)\nprob = frq/frq.sum()\n\nplt.bar(x_u,prob)\nplt.xlabel('x')\nplt.ylabel('p(x)')\nplt.title(f'Entropy H(x) = {Hx.round(3)} bits')\nplt.show()"
      ]
    }
  ],
  "metadata": {
    "kernelspec": {
      "display_name": "Python 3",
      "language": "python",
      "name": "python3"
    },
    "language_info": {
      "codemirror_mode": {
        "name": "ipython",
        "version": 3
      },
      "file_extension": ".py",
      "mimetype": "text/x-python",
      "name": "python",
      "nbconvert_exporter": "python",
      "pygments_lexer": "ipython3",
      "version": "3.10.13"
    }
  },
  "nbformat": 4,
  "nbformat_minor": 0
}